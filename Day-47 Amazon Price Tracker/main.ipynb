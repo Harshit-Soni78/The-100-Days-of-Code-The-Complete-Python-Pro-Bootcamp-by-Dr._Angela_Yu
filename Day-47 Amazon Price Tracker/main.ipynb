{
 "cells": [
  {
   "cell_type": "code",
   "execution_count": 1,
   "metadata": {},
   "outputs": [
    {
     "data": {
      "text/plain": [
       "False"
      ]
     },
     "execution_count": 1,
     "metadata": {},
     "output_type": "execute_result"
    }
   ],
   "source": [
    "from bs4 import BeautifulSoup\n",
    "import requests\n",
    "import smtplib\n",
    "import os\n",
    "from dotenv import load_dotenv\n",
    "\n",
    "load_dotenv()"
   ]
  },
  {
   "cell_type": "code",
   "execution_count": 2,
   "metadata": {},
   "outputs": [
    {
     "name": "stdout",
     "output_type": "stream",
     "text": [
      "<Response [200]>\n"
     ]
    }
   ],
   "source": [
    "URL = \"https://appbrewery.github.io/instant_pot/\"\n",
    "live_url = \"https://www.amazon.com/dp/B075CYMYK6?psc=1&ref_=cm_sw_r_cp_ud_ct_FM9M699VKHTT47YD50Q6\"\n",
    "\n",
    "response = requests.get(URL) \n",
    "print(response)\n",
    "webpage = response.text"
   ]
  },
  {
   "cell_type": "code",
   "execution_count": 3,
   "metadata": {},
   "outputs": [
    {
     "name": "stdout",
     "output_type": "stream",
     "text": [
      "99.99\n"
     ]
    }
   ],
   "source": [
    "soup = BeautifulSoup(webpage, \"html.parser\")\n",
    "\n",
    "price = soup.find(class_=\"a-offscreen\").get_text()\n",
    "\n",
    "price_without_currency = price.split(\"$\")[1]\n",
    "\n",
    "price_as_float = float(price_without_currency)\n",
    "print(price_as_float)"
   ]
  },
  {
   "cell_type": "code",
   "execution_count": null,
   "metadata": {},
   "outputs": [],
   "source": [
    "title = soup.find(id=\"productTitle\").get_text().strip()\n",
    "print(title)\n",
    "\n",
    "BUY_PRICE = 100\n",
    "\n",
    "if price_as_float < BUY_PRICE:\n",
    "    message = f\"{title} is on sale for {price}!\"\n",
    "    \n",
    "    with smtplib.SMTP(os.environ[\"SMTP_ADDRESS\"], port=587) as connection:\n",
    "        connection.starttls()\n",
    "        result = connection.login(os.environ[\"EMAIL_ADDRESS\"], os.environ[\"EMAIL_PASSWORD\"])\n",
    "        connection.sendmail(\n",
    "            from_addr=os.environ[\"EMAIL_ADDRESS\"],\n",
    "            to_addrs=os.environ[\"EMAIL_ADDRESS\"],\n",
    "            msg=f\"Subject:Amazon Price Alert!\\n\\n{message}\\n{url}\".encode(\"utf-8\")\n",
    "        )"
   ]
  }
 ],
 "metadata": {
  "kernelspec": {
   "display_name": "base",
   "language": "python",
   "name": "python3"
  },
  "language_info": {
   "codemirror_mode": {
    "name": "ipython",
    "version": 3
   },
   "file_extension": ".py",
   "mimetype": "text/x-python",
   "name": "python",
   "nbconvert_exporter": "python",
   "pygments_lexer": "ipython3",
   "version": "3.12.7"
  }
 },
 "nbformat": 4,
 "nbformat_minor": 2
}
