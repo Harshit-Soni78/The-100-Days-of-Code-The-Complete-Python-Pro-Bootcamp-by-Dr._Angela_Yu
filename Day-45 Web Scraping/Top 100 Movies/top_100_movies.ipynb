{
 "cells": [
  {
   "cell_type": "code",
   "execution_count": 2,
   "metadata": {},
   "outputs": [],
   "source": [
    "from bs4 import BeautifulSoup\n",
    "import requests\n",
    "\n",
    "response = requests.get(url=\"https://www.empireonline.com/movies/features/best-movies-2/\")\n",
    "\n",
    "webpage = response.text\n",
    "# print(webpage)"
   ]
  },
  {
   "cell_type": "code",
   "execution_count": 6,
   "metadata": {},
   "outputs": [],
   "source": [
    "soup = BeautifulSoup(webpage, \"html.parser\")\n",
    "# print(soup.prettify)\n"
   ]
  },
  {
   "cell_type": "code",
   "execution_count": 9,
   "metadata": {},
   "outputs": [
    {
     "name": "stdout",
     "output_type": "stream",
     "text": [
      "[<h3 class=\"listicleItem_listicle-item__title__BfenH\">100 Reservoir Dogs</h3>, <h3 class=\"listicleItem_listicle-item__title__BfenH\">99) Groundhog Day</h3>, <h3 class=\"listicleItem_listicle-item__title__BfenH\">98) Paddington 2</h3>, <h3 class=\"listicleItem_listicle-item__title__BfenH\">97) Amelie</h3>, <h3 class=\"listicleItem_listicle-item__title__BfenH\">96) Brokeback Mountain</h3>, <h3 class=\"listicleItem_listicle-item__title__BfenH\">95) Donnie Darko</h3>, <h3 class=\"listicleItem_listicle-item__title__BfenH\">94) Scott Pilgrim Vs. The World</h3>, <h3 class=\"listicleItem_listicle-item__title__BfenH\">93) Portrait Of A Lady On Fire</h3>, <h3 class=\"listicleItem_listicle-item__title__BfenH\">92) Léon</h3>, <h3 class=\"listicleItem_listicle-item__title__BfenH\">91) Logan</h3>, <h3 class=\"listicleItem_listicle-item__title__BfenH\">90) The Terminator</h3>, <h3 class=\"listicleItem_listicle-item__title__BfenH\">89) No Country For Old Men</h3>, <h3 class=\"listicleItem_listicle-item__title__BfenH\">88) Titanic</h3>, <h3 class=\"listicleItem_listicle-item__title__BfenH\">87) The Exorcist</h3>, <h3 class=\"listicleItem_listicle-item__title__BfenH\">86) Black Panther</h3>, <h3 class=\"listicleItem_listicle-item__title__BfenH\">85) Shaun Of The Dead</h3>, <h3 class=\"listicleItem_listicle-item__title__BfenH\">84) Lost In Translation</h3>, <h3 class=\"listicleItem_listicle-item__title__BfenH\">83) Thor: Ragnarok</h3>, <h3 class=\"listicleItem_listicle-item__title__BfenH\">82) The Usual Suspects</h3>, <h3 class=\"listicleItem_listicle-item__title__BfenH\">81) Psycho</h3>, <h3 class=\"listicleItem_listicle-item__title__BfenH\">80) L.A. Confidential</h3>, <h3 class=\"listicleItem_listicle-item__title__BfenH\">79) E.T. – The Extra Terrestrial</h3>, <h3 class=\"listicleItem_listicle-item__title__BfenH\">78) In The Mood For Love</h3>, <h3 class=\"listicleItem_listicle-item__title__BfenH\">77) Star Wars: Return Of The Jedi</h3>, <h3 class=\"listicleItem_listicle-item__title__BfenH\">76) Arrival</h3>, <h3 class=\"listicleItem_listicle-item__title__BfenH\">75) A Quiet Place</h3>, <h3 class=\"listicleItem_listicle-item__title__BfenH\">74) Trainspotting</h3>, <h3 class=\"listicleItem_listicle-item__title__BfenH\">73) Mulholland Drive</h3>, <h3 class=\"listicleItem_listicle-item__title__BfenH\">72) Rear Window</h3>, <h3 class=\"listicleItem_listicle-item__title__BfenH\">71) Up</h3>, <h3 class=\"listicleItem_listicle-item__title__BfenH\">70) Spider-Man: Into The Spider-Verse</h3>, <h3 class=\"listicleItem_listicle-item__title__BfenH\">69) Inglourious Basterds</h3>, <h3 class=\"listicleItem_listicle-item__title__BfenH\">68) Lady Bird</h3>, <h3 class=\"listicleItem_listicle-item__title__BfenH\">67) Singin' In The Rain</h3>, <h3 class=\"listicleItem_listicle-item__title__BfenH\">66) One Flew Over The Cuckoo's Nest</h3>, <h3 class=\"listicleItem_listicle-item__title__BfenH\">65) Seven Samurai</h3>, <h3 class=\"listicleItem_listicle-item__title__BfenH\">64) La La Land</h3>, <h3 class=\"listicleItem_listicle-item__title__BfenH\">63) Get Out</h3>, <h3 class=\"listicleItem_listicle-item__title__BfenH\">62) Lawrence Of Arabia</h3>, <h3 class=\"listicleItem_listicle-item__title__BfenH\">61) Pan's Labyrinth</h3>, <h3 class=\"listicleItem_listicle-item__title__BfenH\">60) Hot Fuzz</h3>, <h3 class=\"listicleItem_listicle-item__title__BfenH\">59) Moonlight</h3>, <h3 class=\"listicleItem_listicle-item__title__BfenH\">58) Guardians Of The Galaxy</h3>, <h3 class=\"listicleItem_listicle-item__title__BfenH\">57) Blade Runner 2049</h3>, <h3 class=\"listicleItem_listicle-item__title__BfenH\">56) The Social Network</h3>, <h3 class=\"listicleItem_listicle-item__title__BfenH\">55) Taxi Driver</h3>, <h3 class=\"listicleItem_listicle-item__title__BfenH\">54) Saving Private Ryan</h3>, <h3 class=\"listicleItem_listicle-item__title__BfenH\">53) Forrest Gump</h3>, <h3 class=\"listicleItem_listicle-item__title__BfenH\">52)  Point Break</h3>, <h3 class=\"listicleItem_listicle-item__title__BfenH\">51) Whiplash</h3>, <h3 class=\"listicleItem_listicle-item__title__BfenH\">50) Vertigo</h3>, <h3 class=\"listicleItem_listicle-item__title__BfenH\">49) Spirited Away</h3>, <h3 class=\"listicleItem_listicle-item__title__BfenH\">48) Ghostbusters</h3>, <h3 class=\"listicleItem_listicle-item__title__BfenH\">47) Do The Right Thing</h3>, <h3 class=\"listicleItem_listicle-item__title__BfenH\">46) Schindler's List</h3>, <h3 class=\"listicleItem_listicle-item__title__BfenH\">45) The Big Lebowski</h3>, <h3 class=\"listicleItem_listicle-item__title__BfenH\">44) It's A Wonderful Life</h3>, <h3 class=\"listicleItem_listicle-item__title__BfenH\">43) There Will Be Blood</h3>, <h3 class=\"listicleItem_listicle-item__title__BfenH\">42) 12 Angry Men</h3>, <h3 class=\"listicleItem_listicle-item__title__BfenH\">41) The Silence Of The Lambs</h3>, <h3 class=\"listicleItem_listicle-item__title__BfenH\">40)  Citizen Kane</h3>, <h3 class=\"listicleItem_listicle-item__title__BfenH\">39) Gladiator</h3>, <h3 class=\"listicleItem_listicle-item__title__BfenH\">38) The Good, The Bad And The Ugly</h3>, <h3 class=\"listicleItem_listicle-item__title__BfenH\">37) Se7en</h3>, <h3 class=\"listicleItem_listicle-item__title__BfenH\">36) Eternal Sunshine Of The Spotless Mind</h3>, <h3 class=\"listicleItem_listicle-item__title__BfenH\">35) The Shining</h3>, <h3 class=\"listicleItem_listicle-item__title__BfenH\">34) The Lord Of The Rings: The Two Towers</h3>, <h3 class=\"listicleItem_listicle-item__title__BfenH\">33) Casablanca</h3>, <h3 class=\"listicleItem_listicle-item__title__BfenH\">32) The Thing</h3>, <h3 class=\"listicleItem_listicle-item__title__BfenH\">31) Interstellar</h3>, <h3 class=\"listicleItem_listicle-item__title__BfenH\">30) Heat</h3>, <h3 class=\"listicleItem_listicle-item__title__BfenH\">29) Apocalypse Now</h3>, <h3 class=\"listicleItem_listicle-item__title__BfenH\">28) Indiana Jones And The Last Crusade</h3>, <h3 class=\"listicleItem_listicle-item__title__BfenH\">27) The Lord Of The Rings The Return Of The King</h3>, <h3 class=\"listicleItem_listicle-item__title__BfenH\">26) Die Hard</h3>, <h3 class=\"listicleItem_listicle-item__title__BfenH\">25) Fight Club</h3>, <h3 class=\"listicleItem_listicle-item__title__BfenH\">24) Terminator 2 Judgment Day</h3>, <h3 class=\"listicleItem_listicle-item__title__BfenH\">23) 2001: A Space Odyssey</h3>, <h3 class=\"listicleItem_listicle-item__title__BfenH\">22) Avengers: Endgame</h3>, <h3 class=\"listicleItem_listicle-item__title__BfenH\">21) Alien</h3>, <h3 class=\"listicleItem_listicle-item__title__BfenH\">20) The Matrix</h3>, <h3 class=\"listicleItem_listicle-item__title__BfenH\">19) Inception</h3>, <h3 class=\"listicleItem_listicle-item__title__BfenH\">18) Parasite</h3>, <h3 class=\"listicleItem_listicle-item__title__BfenH\">17) Aliens</h3>, <h3 class=\"listicleItem_listicle-item__title__BfenH\">16) Blade Runner</h3>, <h3 class=\"listicleItem_listicle-item__title__BfenH\">15) Jurassic Park</h3>, <h3 class=\"listicleItem_listicle-item__title__BfenH\">14) The Godfather Part II</h3>, <h3 class=\"listicleItem_listicle-item__title__BfenH\">13) Back To The Future</h3>, <h3 class=\"listicleItem_listicle-item__title__BfenH\">12) Mad Max: Fury Road</h3>, <h3 class=\"listicleItem_listicle-item__title__BfenH\">11) Star Wars</h3>, <h3 class=\"listicleItem_listicle-item__title__BfenH\">10) Goodfellas</h3>, <h3 class=\"listicleItem_listicle-item__title__BfenH\">9) Raiders Of The Lost Ark</h3>, <h3 class=\"listicleItem_listicle-item__title__BfenH\">8) Avengers: Infinity War</h3>, <h3 class=\"listicleItem_listicle-item__title__BfenH\">7) Pulp Fiction</h3>, <h3 class=\"listicleItem_listicle-item__title__BfenH\">6) Jaws</h3>, <h3 class=\"listicleItem_listicle-item__title__BfenH\">5) The Shawshank Redemption</h3>, <h3 class=\"listicleItem_listicle-item__title__BfenH\">4) The Dark Knight</h3>, <h3 class=\"listicleItem_listicle-item__title__BfenH\">3) The Godfather</h3>, <h3 class=\"listicleItem_listicle-item__title__BfenH\">2) Star Wars: The Empire Strikes Back</h3>, <h3 class=\"listicleItem_listicle-item__title__BfenH\">1) The Lord Of The Rings: The Fellowship Of The Ring</h3>]\n"
     ]
    }
   ],
   "source": [
    "movies_tags = soup.find_all(\"h3\", class_=\"listicleItem_listicle-item__title__BfenH\")\n",
    "# print(movies_tags)"
   ]
  },
  {
   "cell_type": "code",
   "execution_count": 14,
   "metadata": {},
   "outputs": [
    {
     "name": "stdout",
     "output_type": "stream",
     "text": [
      "['100 Reservoir Dogs', '99) Groundhog Day', '98) Paddington 2', '97) Amelie', '96) Brokeback Mountain', '95) Donnie Darko', '94) Scott Pilgrim Vs. The World', '93) Portrait Of A Lady On Fire', '92) Léon', '91) Logan', '90) The Terminator', '89) No Country For Old Men', '88) Titanic', '87) The Exorcist', '86) Black Panther', '85) Shaun Of The Dead', '84) Lost In Translation', '83) Thor: Ragnarok', '82) The Usual Suspects', '81) Psycho', '80) L.A. Confidential', '79) E.T. – The Extra Terrestrial', '78) In The Mood For Love', '77) Star Wars: Return Of The Jedi', '76) Arrival', '75) A Quiet Place', '74) Trainspotting', '73) Mulholland Drive', '72) Rear Window', '71) Up', '70) Spider-Man: Into The Spider-Verse', '69) Inglourious Basterds', '68) Lady Bird', \"67) Singin' In The Rain\", \"66) One Flew Over The Cuckoo's Nest\", '65) Seven Samurai', '64) La La Land', '63) Get Out', '62) Lawrence Of Arabia', \"61) Pan's Labyrinth\", '60) Hot Fuzz', '59) Moonlight', '58) Guardians Of The Galaxy', '57) Blade Runner 2049', '56) The Social Network', '55) Taxi Driver', '54) Saving Private Ryan', '53) Forrest Gump', '52)  Point Break', '51) Whiplash', '50) Vertigo', '49) Spirited Away', '48) Ghostbusters', '47) Do The Right Thing', \"46) Schindler's List\", '45) The Big Lebowski', \"44) It's A Wonderful Life\", '43) There Will Be Blood', '42) 12 Angry Men', '41) The Silence Of The Lambs', '40)  Citizen Kane', '39) Gladiator', '38) The Good, The Bad And The Ugly', '37) Se7en', '36) Eternal Sunshine Of The Spotless Mind', '35) The Shining', '34) The Lord Of The Rings: The Two Towers', '33) Casablanca', '32) The Thing', '31) Interstellar', '30) Heat', '29) Apocalypse Now', '28) Indiana Jones And The Last Crusade', '27) The Lord Of The Rings The Return Of The King', '26) Die Hard', '25) Fight Club', '24) Terminator 2 Judgment Day', '23) 2001: A Space Odyssey', '22) Avengers: Endgame', '21) Alien', '20) The Matrix', '19) Inception', '18) Parasite', '17) Aliens', '16) Blade Runner', '15) Jurassic Park', '14) The Godfather Part II', '13) Back To The Future', '12) Mad Max: Fury Road', '11) Star Wars', '10) Goodfellas', '9) Raiders Of The Lost Ark', '8) Avengers: Infinity War', '7) Pulp Fiction', '6) Jaws', '5) The Shawshank Redemption', '4) The Dark Knight', '3) The Godfather', '2) Star Wars: The Empire Strikes Back', '1) The Lord Of The Rings: The Fellowship Of The Ring']\n"
     ]
    }
   ],
   "source": [
    "movie_titles = [movie.getText() for movie in movies_tags]\n",
    "# print(movie_titles)"
   ]
  },
  {
   "cell_type": "code",
   "execution_count": 18,
   "metadata": {},
   "outputs": [
    {
     "name": "stdout",
     "output_type": "stream",
     "text": [
      "['1) The Lord Of The Rings: The Fellowship Of The Ring', '2) Star Wars: The Empire Strikes Back', '3) The Godfather', '4) The Dark Knight', '5) The Shawshank Redemption', '6) Jaws', '7) Pulp Fiction', '8) Avengers: Infinity War', '9) Raiders Of The Lost Ark', '10) Goodfellas', '11) Star Wars', '12) Mad Max: Fury Road', '13) Back To The Future', '14) The Godfather Part II', '15) Jurassic Park', '16) Blade Runner', '17) Aliens', '18) Parasite', '19) Inception', '20) The Matrix', '21) Alien', '22) Avengers: Endgame', '23) 2001: A Space Odyssey', '24) Terminator 2 Judgment Day', '25) Fight Club', '26) Die Hard', '27) The Lord Of The Rings The Return Of The King', '28) Indiana Jones And The Last Crusade', '29) Apocalypse Now', '30) Heat', '31) Interstellar', '32) The Thing', '33) Casablanca', '34) The Lord Of The Rings: The Two Towers', '35) The Shining', '36) Eternal Sunshine Of The Spotless Mind', '37) Se7en', '38) The Good, The Bad And The Ugly', '39) Gladiator', '40)  Citizen Kane', '41) The Silence Of The Lambs', '42) 12 Angry Men', '43) There Will Be Blood', \"44) It's A Wonderful Life\", '45) The Big Lebowski', \"46) Schindler's List\", '47) Do The Right Thing', '48) Ghostbusters', '49) Spirited Away', '50) Vertigo', '51) Whiplash', '52)  Point Break', '53) Forrest Gump', '54) Saving Private Ryan', '55) Taxi Driver', '56) The Social Network', '57) Blade Runner 2049', '58) Guardians Of The Galaxy', '59) Moonlight', '60) Hot Fuzz', \"61) Pan's Labyrinth\", '62) Lawrence Of Arabia', '63) Get Out', '64) La La Land', '65) Seven Samurai', \"66) One Flew Over The Cuckoo's Nest\", \"67) Singin' In The Rain\", '68) Lady Bird', '69) Inglourious Basterds', '70) Spider-Man: Into The Spider-Verse', '71) Up', '72) Rear Window', '73) Mulholland Drive', '74) Trainspotting', '75) A Quiet Place', '76) Arrival', '77) Star Wars: Return Of The Jedi', '78) In The Mood For Love', '79) E.T. – The Extra Terrestrial', '80) L.A. Confidential', '81) Psycho', '82) The Usual Suspects', '83) Thor: Ragnarok', '84) Lost In Translation', '85) Shaun Of The Dead', '86) Black Panther', '87) The Exorcist', '88) Titanic', '89) No Country For Old Men', '90) The Terminator', '91) Logan', '92) Léon', '93) Portrait Of A Lady On Fire', '94) Scott Pilgrim Vs. The World', '95) Donnie Darko', '96) Brokeback Mountain', '97) Amelie', '98) Paddington 2', '99) Groundhog Day', '100 Reservoir Dogs']\n"
     ]
    }
   ],
   "source": [
    "movies = movie_titles[::-1]\n",
    "print(movies)"
   ]
  },
  {
   "cell_type": "code",
   "execution_count": 19,
   "metadata": {},
   "outputs": [
    {
     "name": "stdout",
     "output_type": "stream",
     "text": [
      "1) The Lord Of The Rings: The Fellowship Of The Ring\n",
      "2) Star Wars: The Empire Strikes Back\n",
      "3) The Godfather\n",
      "4) The Dark Knight\n",
      "5) The Shawshank Redemption\n",
      "6) Jaws\n",
      "7) Pulp Fiction\n",
      "8) Avengers: Infinity War\n",
      "9) Raiders Of The Lost Ark\n",
      "10) Goodfellas\n",
      "11) Star Wars\n",
      "12) Mad Max: Fury Road\n",
      "13) Back To The Future\n",
      "14) The Godfather Part II\n",
      "15) Jurassic Park\n",
      "16) Blade Runner\n",
      "17) Aliens\n",
      "18) Parasite\n",
      "19) Inception\n",
      "20) The Matrix\n",
      "21) Alien\n",
      "22) Avengers: Endgame\n",
      "23) 2001: A Space Odyssey\n",
      "24) Terminator 2 Judgment Day\n",
      "25) Fight Club\n",
      "26) Die Hard\n",
      "27) The Lord Of The Rings The Return Of The King\n",
      "28) Indiana Jones And The Last Crusade\n",
      "29) Apocalypse Now\n",
      "30) Heat\n",
      "31) Interstellar\n",
      "32) The Thing\n",
      "33) Casablanca\n",
      "34) The Lord Of The Rings: The Two Towers\n",
      "35) The Shining\n",
      "36) Eternal Sunshine Of The Spotless Mind\n",
      "37) Se7en\n",
      "38) The Good, The Bad And The Ugly\n",
      "39) Gladiator\n",
      "40)  Citizen Kane\n",
      "41) The Silence Of The Lambs\n",
      "42) 12 Angry Men\n",
      "43) There Will Be Blood\n",
      "44) It's A Wonderful Life\n",
      "45) The Big Lebowski\n",
      "46) Schindler's List\n",
      "47) Do The Right Thing\n",
      "48) Ghostbusters\n",
      "49) Spirited Away\n",
      "50) Vertigo\n",
      "51) Whiplash\n",
      "52)  Point Break\n",
      "53) Forrest Gump\n",
      "54) Saving Private Ryan\n",
      "55) Taxi Driver\n",
      "56) The Social Network\n",
      "57) Blade Runner 2049\n",
      "58) Guardians Of The Galaxy\n",
      "59) Moonlight\n",
      "60) Hot Fuzz\n",
      "61) Pan's Labyrinth\n",
      "62) Lawrence Of Arabia\n",
      "63) Get Out\n",
      "64) La La Land\n",
      "65) Seven Samurai\n",
      "66) One Flew Over The Cuckoo's Nest\n",
      "67) Singin' In The Rain\n",
      "68) Lady Bird\n",
      "69) Inglourious Basterds\n",
      "70) Spider-Man: Into The Spider-Verse\n",
      "71) Up\n",
      "72) Rear Window\n",
      "73) Mulholland Drive\n",
      "74) Trainspotting\n",
      "75) A Quiet Place\n",
      "76) Arrival\n",
      "77) Star Wars: Return Of The Jedi\n",
      "78) In The Mood For Love\n",
      "79) E.T. – The Extra Terrestrial\n",
      "80) L.A. Confidential\n",
      "81) Psycho\n",
      "82) The Usual Suspects\n",
      "83) Thor: Ragnarok\n",
      "84) Lost In Translation\n",
      "85) Shaun Of The Dead\n",
      "86) Black Panther\n",
      "87) The Exorcist\n",
      "88) Titanic\n",
      "89) No Country For Old Men\n",
      "90) The Terminator\n",
      "91) Logan\n",
      "92) Léon\n",
      "93) Portrait Of A Lady On Fire\n",
      "94) Scott Pilgrim Vs. The World\n",
      "95) Donnie Darko\n",
      "96) Brokeback Mountain\n",
      "97) Amelie\n",
      "98) Paddington 2\n",
      "99) Groundhog Day\n",
      "100 Reservoir Dogs\n"
     ]
    }
   ],
   "source": [
    "for n in range(len(movie_titles) -1, -1, -1):\n",
    "    print(movie_titles[n])"
   ]
  },
  {
   "cell_type": "code",
   "execution_count": 20,
   "metadata": {},
   "outputs": [],
   "source": [
    "with open(\"movies.txt\", mode=\"w\") as file:\n",
    "    for movie in movies:\n",
    "        file.write(f\"{movie}\\n\")\n"
   ]
  },
  {
   "cell_type": "code",
   "execution_count": null,
   "metadata": {},
   "outputs": [],
   "source": []
  }
 ],
 "metadata": {
  "kernelspec": {
   "display_name": "base",
   "language": "python",
   "name": "python3"
  },
  "language_info": {
   "codemirror_mode": {
    "name": "ipython",
    "version": 3
   },
   "file_extension": ".py",
   "mimetype": "text/x-python",
   "name": "python",
   "nbconvert_exporter": "python",
   "pygments_lexer": "ipython3",
   "version": "3.11.7"
  }
 },
 "nbformat": 4,
 "nbformat_minor": 2
}
