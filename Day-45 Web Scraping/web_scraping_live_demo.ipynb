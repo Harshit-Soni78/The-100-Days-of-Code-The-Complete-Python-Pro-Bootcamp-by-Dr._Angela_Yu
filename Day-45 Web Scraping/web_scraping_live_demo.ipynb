{
 "cells": [
  {
   "cell_type": "code",
   "execution_count": 4,
   "metadata": {},
   "outputs": [
    {
     "name": "stdout",
     "output_type": "stream",
     "text": [
      "<html lang=\"en\" op=\"news\"><head><meta name=\"referrer\" content=\"origin\"><meta name=\"viewport\" content=\"width=device-width, initial-scale=1.0\"><link rel=\"stylesheet\" type=\"text/css\" href=\"news.css?WNnbPR2RzcIA6QwrdQmO\">\n",
      "        <link rel=\"icon\" href=\"y18.svg\">\n",
      "                  <link rel=\"alternate\" type=\"application/rss+xml\" title=\"RSS\" href=\"rss\">\n",
      "        <title>Hacker News</title></head><body><center><table id=\"hnmain\" border=\"0\" cellpadding=\"0\" cellspacing=\"0\" width=\"85%\" bgcolor=\"#f6f6ef\">\n",
      "        <tr><td bgcolor=\"#ff6600\"><table border=\"0\" cellpadding=\"0\" cellspacing=\"0\" width=\"100%\" style=\"padding:2px\"><tr><td style=\"width:18px;padding-right:4px\"><a href=\"https://news.ycombinator.com\"><img src=\"y18.svg\" width=\"18\" height=\"18\" style=\"border:1px white solid; display:block\"></a></td>\n",
      "                  <td style=\"line-height:12pt; height:10px;\"><span class=\"pagetop\"><b class=\"hnname\"><a href=\"news\">Hacker News</a></b>\n",
      "                            <a href=\"newest\">new</a> | <a href=\"front\">past</a> | <a href=\"newcomments\">comments</a> | <a href=\"ask\">ask</a> | <a href=\"show\">show</a> | <a href=\"jobs\">jobs</a> | <a href=\"submit\" rel=\"nofollow\">submit</a>            </span></td><td style=\"text-align:right;padding-right:4px;\"><span class=\"pagetop\">\n",
      "                              <a href=\"login?goto=news\">login</a>\n",
      "                          </span></td>\n",
      "              </tr></table></td></tr>\n",
      "<tr id=\"pagespace\" title=\"\" style=\"height:10px\"></tr><tr><td><table border=\"0\" cellpadding=\"0\" cellspacing=\"0\">\n",
      "            <tr class='athing' id='41592552'>\n",
      "      <td align=\"right\" valign=\"top\" class=\"title\"><span class=\"rank\">1.</span></td>      <td valign=\"top\" class=\"votelinks\"><center><a id='up_41592552' href='vote?id=41592552&amp;how=up&amp;goto=news'><div class='votearrow' title='upvote'></div></a></center></td><td class=\"title\"><span class=\"titleline\"><a href=\"https://spectrum.ieee.org/5g-antenna-transparent-window\">Glass Antenna Turns windows into 5G Base Stations</a><span class=\"sitebit comhead\"> (<a href=\"from?site=ieee.org\"><span class=\"sitestr\">ieee.org</span></a>)</span></span></td></tr><tr><td colspan=\"2\"></td><td class=\"subtext\"><span class=\"subline\">\n",
      "          <span class=\"score\" id=\"score_41592552\">88 points</span> by <a href=\"user?id=thunderbong\" class=\"hnuser\">thunderbong</a> <span class=\"age\" title=\"2024-09-19T14:53:32.000000Z\"><a href=\"item?id=41592552\">1 hour ago</a></span> <span id=\"unv_41592552\"></span> | <a href=\"hide?id=41592552&amp;goto=news\">hide</a> | <a href=\"item?id=41592552\">39&nbsp;comments</a>        </span>\n",
      "              </td></tr>\n",
      "      <tr class=\"spacer\" style=\"height:5px\"></tr>\n",
      "                <tr class='athing' id='41591449'>\n",
      "      <td align=\"right\" valign=\"top\" class=\"title\"><span class=\"rank\">2.</span></td>      <td valign=\"top\" class=\"votelinks\"><center><a id='up_41591449' href='vote?id=41591449&amp;how=up&amp;goto=news'><div class='votearrow' title='upvote'></div></a></center></td><td class=\"title\"><span class=\"titleline\"><a href=\"https://github.com/dragostis/chili\">Show HN: Chili. Rust port of Spice, a low-overhead parallelization library</a><span class=\"sitebit comhead\"> (<a href=\"from?site=github.com/dragostis\"><span class=\"sitestr\">github.com/dragostis</span></a>)</span></span></td></tr><tr><td colspan=\"2\"></td><td class=\"subtext\"><span class=\"subline\">\n",
      "          <span class=\"score\" id=\"score_41591449\">119 points</span> by <a href=\"user?id=dragostis\" class=\"hnuser\">dragostis</a> <span class=\"age\" title=\"2024-09-19T13:04:21.000000Z\"><a href=\"item?id=41591449\">3 hours ago</a></span> <span id=\"unv_41591449\"></span> | <a href=\"hide?id=41591449&amp;goto=news\">hide</a> | <a href=\"item?id=41591449\">11&nbsp;comments</a>        </span>\n",
      "              </td></tr>\n",
      "      <tr class=\"spacer\" style=\"height:5px\"></tr>\n",
      "                <tr class='athing' id='41591399'>\n",
      "      <td align=\"right\" valign=\"top\" class=\"title\"><span class=\"rank\">3.</span></td>      <td valign=\"top\" class=\"votelinks\"><center><a id='up_41591399' href='vote?id=41591399&amp;how=up&amp;goto=news'><div class='votearrow' title='upvote'></div></a></center></td><td class=\"title\"><span class=\"titleline\"><a href=\"https://risk-engineering.org/concept/Rasmussen-practical-drift\">Drift towards danger and the normalization of deviance (2017)</a><span class=\"sitebit comhead\"> (<a href=\"from?site=risk-engineering.org\"><span class=\"sitestr\">risk-engineering.org</span></a>)</span></span></td></tr><tr><td colspan=\"2\"></td><td class=\"subtext\"><span class=\"subline\">\n",
      "          <span class=\"score\" id=\"score_41591399\">81 points</span> by <a href=\"user?id=yamrzou\" class=\"hnuser\">yamrzou</a> <span class=\"age\" title=\"2024-09-19T12:58:18.000000Z\"><a href=\"item?id=41591399\">3 hours ago</a></span> <span id=\"unv_41591399\"></span> | <a href=\"hide?id=41591399&amp;goto=news\">hide</a> | <a href=\"item?id=41591399\">41&nbsp;comments</a>        </span>\n",
      "              </td></tr>\n",
      "      <tr class=\"spacer\" style=\"height:5px\"></tr>\n",
      "                <tr class='athing' id='41592646'>\n",
      "      <td align=\"right\" valign=\"top\" class=\"title\"><span class=\"rank\">4.</span></td>      <td valign=\"top\" class=\"votelinks\"><center><a id='up_41592646' href='vote?id=41592646&amp;how=up&amp;goto=news'><div class='votearrow' title='upvote'></div></a></center></td><td class=\"title\"><span class=\"titleline\"><a href=\"https://www.opennms.com/opennms-feature-list/\">OpenNMS: Visualize and monitor everything on your local and distributed networks</a><span class=\"sitebit comhead\"> (<a href=\"from?site=opennms.com\"><span class=\"sitestr\">opennms.com</span></a>)</span></span></td></tr><tr><td colspan=\"2\"></td><td class=\"subtext\"><span class=\"subline\">\n",
      "          <span class=\"score\" id=\"score_41592646\">15 points</span> by <a href=\"user?id=teleforce\" class=\"hnuser\">teleforce</a> <span class=\"age\" title=\"2024-09-19T15:02:48.000000Z\"><a href=\"item?id=41592646\">1 hour ago</a></span> <span id=\"unv_41592646\"></span> | <a href=\"hide?id=41592646&amp;goto=news\">hide</a> | <a href=\"item?id=41592646\">15&nbsp;comments</a>        </span>\n",
      "              </td></tr>\n",
      "      <tr class=\"spacer\" style=\"height:5px\"></tr>\n",
      "                <tr class='athing' id='41590807'>\n",
      "      <td align=\"right\" valign=\"top\" class=\"title\"><span class=\"rank\">5.</span></td>      <td valign=\"top\" class=\"votelinks\"><center><a id='up_41590807' href='vote?id=41590807&amp;how=up&amp;goto=news'><div class='votearrow' title='upvote'></div></a></center></td><td class=\"title\"><span class=\"titleline\"><a href=\"https://www.trebeljahr.com/posts/diatoms\">Diatom Arrangements</a><span class=\"sitebit comhead\"> (<a href=\"from?site=trebeljahr.com\"><span class=\"sitestr\">trebeljahr.com</span></a>)</span></span></td></tr><tr><td colspan=\"2\"></td><td class=\"subtext\"><span class=\"subline\">\n",
      "          <span class=\"score\" id=\"score_41590807\">69 points</span> by <a href=\"user?id=trebeljahr\" class=\"hnuser\">trebeljahr</a> <span class=\"age\" title=\"2024-09-19T11:47:45.000000Z\"><a href=\"item?id=41590807\">3 hours ago</a></span> <span id=\"unv_41590807\"></span> | <a href=\"hide?id=41590807&amp;goto=news\">hide</a> | <a href=\"item?id=41590807\">13&nbsp;comments</a>        </span>\n",
      "              </td></tr>\n",
      "      <tr class=\"spacer\" style=\"height:5px\"></tr>\n",
      "                <tr class='athing' id='41591018'>\n",
      "      <td align=\"right\" valign=\"top\" class=\"title\"><span class=\"rank\">6.</span></td>      <td valign=\"top\" class=\"votelinks\"><center><a id='up_41591018' href='vote?id=41591018&amp;how=up&amp;goto=news'><div class='votearrow' title='upvote'></div></a></center></td><td class=\"title\"><span class=\"titleline\"><a href=\"https://github.com/MightyMoud/sidekick\">Show HN: A CLI tool I made to self-host any app with two commands on a VPS</a><span class=\"sitebit comhead\"> (<a href=\"from?site=github.com/mightymoud\"><span class=\"sitestr\">github.com/mightymoud</span></a>)</span></span></td></tr><tr><td colspan=\"2\"></td><td class=\"subtext\"><span class=\"subline\">\n",
      "          <span class=\"score\" id=\"score_41591018\">80 points</span> by <a href=\"user?id=mightymoud\" class=\"hnuser\">mightymoud</a> <span class=\"age\" title=\"2024-09-19T12:17:05.000000Z\"><a href=\"item?id=41591018\">4 hours ago</a></span> <span id=\"unv_41591018\"></span> | <a href=\"hide?id=41591018&amp;goto=news\">hide</a> | <a href=\"item?id=41591018\">21&nbsp;comments</a>        </span>\n",
      "              </td></tr>\n",
      "      <tr class=\"spacer\" style=\"height:5px\"></tr>\n",
      "                <tr class='athing' id='41591998'>\n",
      "      <td align=\"right\" valign=\"top\" class=\"title\"><span class=\"rank\">7.</span></td>      <td valign=\"top\" class=\"votelinks\"><center><a id='up_41591998' href='vote?id=41591998&amp;how=up&amp;goto=news'><div class='votearrow' title='upvote'></div></a></center></td><td class=\"title\"><span class=\"titleline\"><a href=\"https://www.evanjones.ca/jvm-mmap-pause.html\">JVM statistics cause garbage collection pauses (2015)</a><span class=\"sitebit comhead\"> (<a href=\"from?site=evanjones.ca\"><span class=\"sitestr\">evanjones.ca</span></a>)</span></span></td></tr><tr><td colspan=\"2\"></td><td class=\"subtext\"><span class=\"subline\">\n",
      "          <span class=\"score\" id=\"score_41591998\">31 points</span> by <a href=\"user?id=tosh\" class=\"hnuser\">tosh</a> <span class=\"age\" title=\"2024-09-19T14:05:32.000000Z\"><a href=\"item?id=41591998\">2 hours ago</a></span> <span id=\"unv_41591998\"></span> | <a href=\"hide?id=41591998&amp;goto=news\">hide</a> | <a href=\"item?id=41591998\">8&nbsp;comments</a>        </span>\n",
      "              </td></tr>\n",
      "      <tr class=\"spacer\" style=\"height:5px\"></tr>\n",
      "                <tr class='athing' id='41585017'>\n",
      "      <td align=\"right\" valign=\"top\" class=\"title\"><span class=\"rank\">8.</span></td>      <td valign=\"top\" class=\"votelinks\"><center><a id='up_41585017' href='vote?id=41585017&amp;how=up&amp;goto=news'><div class='votearrow' title='upvote'></div></a></center></td><td class=\"title\"><span class=\"titleline\"><a href=\"https://getselectable.com/\">Show HN: Selectable – mobile-friendly Postgres client</a><span class=\"sitebit comhead\"> (<a href=\"from?site=getselectable.com\"><span class=\"sitestr\">getselectable.com</span></a>)</span></span></td></tr><tr><td colspan=\"2\"></td><td class=\"subtext\"><span class=\"subline\">\n",
      "          <span class=\"score\" id=\"score_41585017\">15 points</span> by <a href=\"user?id=yen223\" class=\"hnuser\">yen223</a> <span class=\"age\" title=\"2024-09-18T20:23:47.000000Z\"><a href=\"item?id=41585017\">2 hours ago</a></span> <span id=\"unv_41585017\"></span> | <a href=\"hide?id=41585017&amp;goto=news\">hide</a> | <a href=\"item?id=41585017\">5&nbsp;comments</a>        </span>\n",
      "              </td></tr>\n",
      "      <tr class=\"spacer\" style=\"height:5px\"></tr>\n",
      "                <tr class='athing' id='41554729'>\n",
      "      <td align=\"right\" valign=\"top\" class=\"title\"><span class=\"rank\">9.</span></td>      <td valign=\"top\" class=\"votelinks\"><center><a id='up_41554729' href='vote?id=41554729&amp;how=up&amp;goto=news'><div class='votearrow' title='upvote'></div></a></center></td><td class=\"title\"><span class=\"titleline\"><a href=\"https://github.com/Harvie/cnc-simulator\">I Revived 3-Axis CNC Mill G-Code Simulator</a><span class=\"sitebit comhead\"> (<a href=\"from?site=github.com/harvie\"><span class=\"sitestr\">github.com/harvie</span></a>)</span></span></td></tr><tr><td colspan=\"2\"></td><td class=\"subtext\"><span class=\"subline\">\n",
      "          <span class=\"score\" id=\"score_41554729\">73 points</span> by <a href=\"user?id=harvie\" class=\"hnuser\">harvie</a> <span class=\"age\" title=\"2024-09-16T10:45:54.000000Z\"><a href=\"item?id=41554729\">6 hours ago</a></span> <span id=\"unv_41554729\"></span> | <a href=\"hide?id=41554729&amp;goto=news\">hide</a> | <a href=\"item?id=41554729\">14&nbsp;comments</a>        </span>\n",
      "              </td></tr>\n",
      "      <tr class=\"spacer\" style=\"height:5px\"></tr>\n",
      "                <tr class='athing' id='41591906'>\n",
      "      <td align=\"right\" valign=\"top\" class=\"title\"><span class=\"rank\">10.</span></td>      <td valign=\"top\" class=\"votelinks\"><center><a id='up_41591906' href='vote?id=41591906&amp;how=up&amp;goto=news'><div class='votearrow' title='upvote'></div></a></center></td><td class=\"title\"><span class=\"titleline\"><a href=\"https://www.tudelft.nl/en/2024/tnw/quantum-researchers-cause-controlled-wobble-in-the-nucleus-of-a-single-atom\">Quantum researchers cause controlled &#x27;wobble&#x27; in the nucleus of a single atom</a><span class=\"sitebit comhead\"> (<a href=\"from?site=tudelft.nl\"><span class=\"sitestr\">tudelft.nl</span></a>)</span></span></td></tr><tr><td colspan=\"2\"></td><td class=\"subtext\"><span class=\"subline\">\n",
      "          <span class=\"score\" id=\"score_41591906\">13 points</span> by <a href=\"user?id=gmays\" class=\"hnuser\">gmays</a> <span class=\"age\" title=\"2024-09-19T13:58:56.000000Z\"><a href=\"item?id=41591906\">2 hours ago</a></span> <span id=\"unv_41591906\"></span> | <a href=\"hide?id=41591906&amp;goto=news\">hide</a> | <a href=\"item?id=41591906\">9&nbsp;comments</a>        </span>\n",
      "              </td></tr>\n",
      "      <tr class=\"spacer\" style=\"height:5px\"></tr>\n",
      "                <tr class='athing' id='41591622'>\n",
      "      <td align=\"right\" valign=\"top\" class=\"title\"><span class=\"rank\">11.</span></td>      <td valign=\"top\" class=\"votelinks\"><center><a id='up_41591622' href='vote?id=41591622&amp;how=up&amp;goto=news'><div class='votearrow' title='upvote'></div></a></center></td><td class=\"title\"><span class=\"titleline\"><a href=\"https://www.pivotaltracker.com/blog/2024-09-18-end-of-life\">Pivotal Tracker will shut down</a><span class=\"sitebit comhead\"> (<a href=\"from?site=pivotaltracker.com\"><span class=\"sitestr\">pivotaltracker.com</span></a>)</span></span></td></tr><tr><td colspan=\"2\"></td><td class=\"subtext\"><span class=\"subline\">\n",
      "          <span class=\"score\" id=\"score_41591622\">169 points</span> by <a href=\"user?id=sandinmyjoints\" class=\"hnuser\">sandinmyjoints</a> <span class=\"age\" title=\"2024-09-19T13:25:15.000000Z\"><a href=\"item?id=41591622\">2 hours ago</a></span> <span id=\"unv_41591622\"></span> | <a href=\"hide?id=41591622&amp;goto=news\">hide</a> | <a href=\"item?id=41591622\">112&nbsp;comments</a>        </span>\n",
      "              </td></tr>\n",
      "      <tr class=\"spacer\" style=\"height:5px\"></tr>\n",
      "                <tr class='athing' id='41583847'>\n",
      "      <td align=\"right\" valign=\"top\" class=\"title\"><span class=\"rank\">12.</span></td>      <td valign=\"top\" class=\"votelinks\"><center><a id='up_41583847' href='vote?id=41583847&amp;how=up&amp;goto=news'><div class='votearrow' title='upvote'></div></a></center></td><td class=\"title\"><span class=\"titleline\"><a href=\"https://blog.torproject.org/tor-is-still-safe/\">Is Tor still safe to use?</a><span class=\"sitebit comhead\"> (<a href=\"from?site=torproject.org\"><span class=\"sitestr\">torproject.org</span></a>)</span></span></td></tr><tr><td colspan=\"2\"></td><td class=\"subtext\"><span class=\"subline\">\n",
      "          <span class=\"score\" id=\"score_41583847\">686 points</span> by <a href=\"user?id=Sami_Lehtinen\" class=\"hnuser\">Sami_Lehtinen</a> <span class=\"age\" title=\"2024-09-18T18:41:46.000000Z\"><a href=\"item?id=41583847\">21 hours ago</a></span> <span id=\"unv_41583847\"></span> | <a href=\"hide?id=41583847&amp;goto=news\">hide</a> | <a href=\"item?id=41583847\">459&nbsp;comments</a>        </span>\n",
      "              </td></tr>\n",
      "      <tr class=\"spacer\" style=\"height:5px\"></tr>\n",
      "                <tr class='athing' id='41591230'>\n",
      "      <td align=\"right\" valign=\"top\" class=\"title\"><span class=\"rank\">13.</span></td>      <td valign=\"top\" class=\"votelinks\"><center><a id='up_41591230' href='vote?id=41591230&amp;how=up&amp;goto=news'><div class='votearrow' title='upvote'></div></a></center></td><td class=\"title\"><span class=\"titleline\"><a href=\"https://www.strangeloopcanon.com/p/seeing-like-a-network\">Seeing Like a Network</a><span class=\"sitebit comhead\"> (<a href=\"from?site=strangeloopcanon.com\"><span class=\"sitestr\">strangeloopcanon.com</span></a>)</span></span></td></tr><tr><td colspan=\"2\"></td><td class=\"subtext\"><span class=\"subline\">\n",
      "          <span class=\"score\" id=\"score_41591230\">18 points</span> by <a href=\"user?id=yamrzou\" class=\"hnuser\">yamrzou</a> <span class=\"age\" title=\"2024-09-19T12:41:16.000000Z\"><a href=\"item?id=41591230\">3 hours ago</a></span> <span id=\"unv_41591230\"></span> | <a href=\"hide?id=41591230&amp;goto=news\">hide</a> | <a href=\"item?id=41591230\">1&nbsp;comment</a>        </span>\n",
      "              </td></tr>\n",
      "      <tr class=\"spacer\" style=\"height:5px\"></tr>\n",
      "                <tr class='athing' id='41593087'>\n",
      "      <td align=\"right\" valign=\"top\" class=\"title\"><span class=\"rank\">14.</span></td>      <td valign=\"top\" class=\"votelinks\"><center><a id='up_41593087' href='vote?id=41593087&amp;how=up&amp;goto=news'><div class='votearrow' title='upvote'></div></a></center></td><td class=\"title\"><span class=\"titleline\"><a href=\"https://www.wsj.com/health/how-pediatricians-created-the-peanut-allergy-epidemic-952831c4\">Pediatricians Created the Peanut Allergy Epidemic</a><span class=\"sitebit comhead\"> (<a href=\"from?site=wsj.com\"><span class=\"sitestr\">wsj.com</span></a>)</span></span></td></tr><tr><td colspan=\"2\"></td><td class=\"subtext\"><span class=\"subline\">\n",
      "          <span class=\"score\" id=\"score_41593087\">30 points</span> by <a href=\"user?id=julienchastang\" class=\"hnuser\">julienchastang</a> <span class=\"age\" title=\"2024-09-19T15:46:37.000000Z\"><a href=\"item?id=41593087\">38 minutes ago</a></span> <span id=\"unv_41593087\"></span> | <a href=\"hide?id=41593087&amp;goto=news\">hide</a> | <a href=\"item?id=41593087\">24&nbsp;comments</a>        </span>\n",
      "              </td></tr>\n",
      "      <tr class=\"spacer\" style=\"height:5px\"></tr>\n",
      "                <tr class='athing' id='41592119'>\n",
      "      <td align=\"right\" valign=\"top\" class=\"title\"><span class=\"rank\">15.</span></td>      <td valign=\"top\" class=\"votelinks\"><center><a id='up_41592119' href='vote?id=41592119&amp;how=up&amp;goto=news'><div class='votearrow' title='upvote'></div></a></center></td><td class=\"title\"><span class=\"titleline\"><a href=\"https://www.latimes.com/lifestyle/story/2024-09-18/regret-how-to-overcome\">Tortured by regrets? A new study details how best to overcome them</a><span class=\"sitebit comhead\"> (<a href=\"from?site=latimes.com\"><span class=\"sitestr\">latimes.com</span></a>)</span></span></td></tr><tr><td colspan=\"2\"></td><td class=\"subtext\"><span class=\"subline\">\n",
      "          <span class=\"score\" id=\"score_41592119\">44 points</span> by <a href=\"user?id=lxm\" class=\"hnuser\">lxm</a> <span class=\"age\" title=\"2024-09-19T14:16:39.000000Z\"><a href=\"item?id=41592119\">2 hours ago</a></span> <span id=\"unv_41592119\"></span> | <a href=\"hide?id=41592119&amp;goto=news\">hide</a> | <a href=\"item?id=41592119\">34&nbsp;comments</a>        </span>\n",
      "              </td></tr>\n",
      "      <tr class=\"spacer\" style=\"height:5px\"></tr>\n",
      "                <tr class='athing' id='41579014'>\n",
      "      <td align=\"right\" valign=\"top\" class=\"title\"><span class=\"rank\">16.</span></td>      <td valign=\"top\" class=\"votelinks\"><center><a id='up_41579014' href='vote?id=41579014&amp;how=up&amp;goto=news'><div class='votearrow' title='upvote'></div></a></center></td><td class=\"title\"><span class=\"titleline\"><a href=\"item?id=41579014\">Ask HN: How to roll out an internal UI component library</a></span></td></tr><tr><td colspan=\"2\"></td><td class=\"subtext\"><span class=\"subline\">\n",
      "          <span class=\"score\" id=\"score_41579014\">42 points</span> by <a href=\"user?id=Stroemgren\" class=\"hnuser\">Stroemgren</a> <span class=\"age\" title=\"2024-09-18T12:42:54.000000Z\"><a href=\"item?id=41579014\">5 hours ago</a></span> <span id=\"unv_41579014\"></span> | <a href=\"hide?id=41579014&amp;goto=news\">hide</a> | <a href=\"item?id=41579014\">36&nbsp;comments</a>        </span>\n",
      "              </td></tr>\n",
      "      <tr class=\"spacer\" style=\"height:5px\"></tr>\n",
      "                <tr class='athing' id='41550907'>\n",
      "      <td align=\"right\" valign=\"top\" class=\"title\"><span class=\"rank\">17.</span></td>      <td valign=\"top\" class=\"votelinks\"><center><a id='up_41550907' href='vote?id=41550907&amp;how=up&amp;goto=news'><div class='votearrow' title='upvote'></div></a></center></td><td class=\"title\"><span class=\"titleline\"><a href=\"https://www.youtube.com/watch?v=Bicjxl4EcJg\">The Cheating Device (ChatGPT on a TI-84) [video]</a><span class=\"sitebit comhead\"> (<a href=\"from?site=youtube.com\"><span class=\"sitestr\">youtube.com</span></a>)</span></span></td></tr><tr><td colspan=\"2\"></td><td class=\"subtext\"><span class=\"subline\">\n",
      "          <span class=\"score\" id=\"score_41550907\">22 points</span> by <a href=\"user?id=triyambakam\" class=\"hnuser\">triyambakam</a> <span class=\"age\" title=\"2024-09-15T22:15:22.000000Z\"><a href=\"item?id=41550907\">3 hours ago</a></span> <span id=\"unv_41550907\"></span> | <a href=\"hide?id=41550907&amp;goto=news\">hide</a> | <a href=\"item?id=41550907\">discuss</a>        </span>\n",
      "              </td></tr>\n",
      "      <tr class=\"spacer\" style=\"height:5px\"></tr>\n",
      "                <tr class='athing' id='41560397'>\n",
      "      <td align=\"right\" valign=\"top\" class=\"title\"><span class=\"rank\">18.</span></td>      <td valign=\"top\" class=\"votelinks\"><center><a id='up_41560397' href='vote?id=41560397&amp;how=up&amp;goto=news'><div class='votearrow' title='upvote'></div></a></center></td><td class=\"title\"><span class=\"titleline\"><a href=\"https://vapour.run/\">Vapour: A typed superset of the R programming language</a><span class=\"sitebit comhead\"> (<a href=\"from?site=vapour.run\"><span class=\"sitestr\">vapour.run</span></a>)</span></span></td></tr><tr><td colspan=\"2\"></td><td class=\"subtext\"><span class=\"subline\">\n",
      "          <span class=\"score\" id=\"score_41560397\">23 points</span> by <a href=\"user?id=johncoene\" class=\"hnuser\">johncoene</a> <span class=\"age\" title=\"2024-09-16T20:24:49.000000Z\"><a href=\"item?id=41560397\">5 hours ago</a></span> <span id=\"unv_41560397\"></span> | <a href=\"hide?id=41560397&amp;goto=news\">hide</a> | <a href=\"item?id=41560397\">12&nbsp;comments</a>        </span>\n",
      "              </td></tr>\n",
      "      <tr class=\"spacer\" style=\"height:5px\"></tr>\n",
      "                <tr class='athing' id='41554014'>\n",
      "      <td align=\"right\" valign=\"top\" class=\"title\"><span class=\"rank\">19.</span></td>      <td valign=\"top\" class=\"votelinks\"><center><a id='up_41554014' href='vote?id=41554014&amp;how=up&amp;goto=news'><div class='votearrow' title='upvote'></div></a></center></td><td class=\"title\"><span class=\"titleline\"><a href=\"https://github.com/line/ts-remove-unused\">Show HN: ts-remove-unused – Remove unused code from your TypeScript project</a><span class=\"sitebit comhead\"> (<a href=\"from?site=github.com/line\"><span class=\"sitestr\">github.com/line</span></a>)</span></span></td></tr><tr><td colspan=\"2\"></td><td class=\"subtext\"><span class=\"subline\">\n",
      "          <span class=\"score\" id=\"score_41554014\">102 points</span> by <a href=\"user?id=kazushisan\" class=\"hnuser\">kazushisan</a> <span class=\"age\" title=\"2024-09-16T08:39:33.000000Z\"><a href=\"item?id=41554014\">12 hours ago</a></span> <span id=\"unv_41554014\"></span> | <a href=\"hide?id=41554014&amp;goto=news\">hide</a> | <a href=\"item?id=41554014\">53&nbsp;comments</a>        </span>\n",
      "              </td></tr>\n",
      "      <tr class=\"spacer\" style=\"height:5px\"></tr>\n",
      "                <tr class='athing' id='41592320'>\n",
      "      <td align=\"right\" valign=\"top\" class=\"title\"><span class=\"rank\">20.</span></td>      <td valign=\"top\" class=\"votelinks\"><center><a id='up_41592320' href='vote?id=41592320&amp;how=up&amp;goto=news'><div class='votearrow' title='upvote'></div></a></center></td><td class=\"title\"><span class=\"titleline\"><a href=\"https://www.nature.com/articles/s41586-024-07886-z\">Three-Dimensional Wave Breaking</a><span class=\"sitebit comhead\"> (<a href=\"from?site=nature.com\"><span class=\"sitestr\">nature.com</span></a>)</span></span></td></tr><tr><td colspan=\"2\"></td><td class=\"subtext\"><span class=\"subline\">\n",
      "          <span class=\"score\" id=\"score_41592320\">15 points</span> by <a href=\"user?id=wawayanda\" class=\"hnuser\">wawayanda</a> <span class=\"age\" title=\"2024-09-19T14:32:12.000000Z\"><a href=\"item?id=41592320\">1 hour ago</a></span> <span id=\"unv_41592320\"></span> | <a href=\"hide?id=41592320&amp;goto=news\">hide</a> | <a href=\"item?id=41592320\">1&nbsp;comment</a>        </span>\n",
      "              </td></tr>\n",
      "      <tr class=\"spacer\" style=\"height:5px\"></tr>\n",
      "                <tr class='athing' id='41590466'>\n",
      "      <td align=\"right\" valign=\"top\" class=\"title\"><span class=\"rank\">21.</span></td>      <td valign=\"top\" class=\"votelinks\"><center><a id='up_41590466' href='vote?id=41590466&amp;how=up&amp;goto=news'><div class='votearrow' title='upvote'></div></a></center></td><td class=\"title\"><span class=\"titleline\"><a href=\"https://larslofgren.com/forbes-marketplace/\">Forbes Marketplace: The Parasite SEO Company Trying to Devour Its Host</a><span class=\"sitebit comhead\"> (<a href=\"from?site=larslofgren.com\"><span class=\"sitestr\">larslofgren.com</span></a>)</span></span></td></tr><tr><td colspan=\"2\"></td><td class=\"subtext\"><span class=\"subline\">\n",
      "          <span class=\"score\" id=\"score_41590466\">20 points</span> by <a href=\"user?id=greg_V\" class=\"hnuser\">greg_V</a> <span class=\"age\" title=\"2024-09-19T10:44:08.000000Z\"><a href=\"item?id=41590466\">5 hours ago</a></span> <span id=\"unv_41590466\"></span> | <a href=\"hide?id=41590466&amp;goto=news\">hide</a> | <a href=\"item?id=41590466\">6&nbsp;comments</a>        </span>\n",
      "              </td></tr>\n",
      "      <tr class=\"spacer\" style=\"height:5px\"></tr>\n",
      "                <tr class='athing' id='41591991'>\n",
      "      <td align=\"right\" valign=\"top\" class=\"title\"><span class=\"rank\">22.</span></td>      <td valign=\"top\" class=\"votelinks\"><center><a id='up_41591991' href='vote?id=41591991&amp;how=up&amp;goto=news'><div class='votearrow' title='upvote'></div></a></center></td><td class=\"title\"><span class=\"titleline\"><a href=\"https://www.causely.io/blog/mttr-meaning/\" rel=\"nofollow\">The &quot;R&quot; in MTTR: Repair or Recover? What&#x27;s the Difference?</a><span class=\"sitebit comhead\"> (<a href=\"from?site=causely.io\"><span class=\"sitestr\">causely.io</span></a>)</span></span></td></tr><tr><td colspan=\"2\"></td><td class=\"subtext\"><span class=\"subline\">\n",
      "          <span class=\"score\" id=\"score_41591991\">3 points</span> by <a href=\"user?id=karinakarina3\" class=\"hnuser\">karinakarina3</a> <span class=\"age\" title=\"2024-09-19T14:05:02.000000Z\"><a href=\"item?id=41591991\">2 hours ago</a></span> <span id=\"unv_41591991\"></span> | <a href=\"hide?id=41591991&amp;goto=news\">hide</a> | <a href=\"item?id=41591991\">discuss</a>        </span>\n",
      "              </td></tr>\n",
      "      <tr class=\"spacer\" style=\"height:5px\"></tr>\n",
      "                <tr class='athing' id='41591527'>\n",
      "      <td align=\"right\" valign=\"top\" class=\"title\"><span class=\"rank\">23.</span></td>      <td valign=\"top\" class=\"votelinks\"><center><a id='up_41591527' href='vote?id=41591527&amp;how=up&amp;goto=news'><div class='votearrow' title='upvote'></div></a></center></td><td class=\"title\"><span class=\"titleline\"><a href=\"https://phys.org/news/2024-09-astronomers-biggest-black-hole-jets.html\" rel=\"nofollow\">Biggest ever seen black hole jets; blasting plasma well beyond their own galaxy</a><span class=\"sitebit comhead\"> (<a href=\"from?site=phys.org\"><span class=\"sitestr\">phys.org</span></a>)</span></span></td></tr><tr><td colspan=\"2\"></td><td class=\"subtext\"><span class=\"subline\">\n",
      "          <span class=\"score\" id=\"score_41591527\">9 points</span> by <a href=\"user?id=wglb\" class=\"hnuser\">wglb</a> <span class=\"age\" title=\"2024-09-19T13:12:56.000000Z\"><a href=\"item?id=41591527\">3 hours ago</a></span> <span id=\"unv_41591527\"></span> | <a href=\"hide?id=41591527&amp;goto=news\">hide</a> | <a href=\"item?id=41591527\">1&nbsp;comment</a>        </span>\n",
      "              </td></tr>\n",
      "      <tr class=\"spacer\" style=\"height:5px\"></tr>\n",
      "                <tr class='athing' id='41591798'>\n",
      "      <td align=\"right\" valign=\"top\" class=\"title\"><span class=\"rank\">24.</span></td>      <td valign=\"top\" class=\"votelinks\"><center><a id='up_41591798' href='vote?id=41591798&amp;how=up&amp;goto=news'><div class='votearrow' title='upvote'></div></a></center></td><td class=\"title\"><span class=\"titleline\"><a href=\"https://www.southampton.ac.uk/news/2024/09/human-genome-stored-on-everlasting-memory-crystal-.page\">Human genome stored on &#x27;everlasting&#x27; memory crystal</a><span class=\"sitebit comhead\"> (<a href=\"from?site=southampton.ac.uk\"><span class=\"sitestr\">southampton.ac.uk</span></a>)</span></span></td></tr><tr><td colspan=\"2\"></td><td class=\"subtext\"><span class=\"subline\">\n",
      "          <span class=\"score\" id=\"score_41591798\">37 points</span> by <a href=\"user?id=breck\" class=\"hnuser\">breck</a> <span class=\"age\" title=\"2024-09-19T13:48:20.000000Z\"><a href=\"item?id=41591798\">2 hours ago</a></span> <span id=\"unv_41591798\"></span> | <a href=\"hide?id=41591798&amp;goto=news\">hide</a> | <a href=\"item?id=41591798\">19&nbsp;comments</a>        </span>\n",
      "              </td></tr>\n",
      "      <tr class=\"spacer\" style=\"height:5px\"></tr>\n",
      "                <tr class='athing' id='41586031'>\n",
      "      <td align=\"right\" valign=\"top\" class=\"title\"><span class=\"rank\">25.</span></td>      <td valign=\"top\" class=\"votelinks\"><center><a id='up_41586031' href='vote?id=41586031&amp;how=up&amp;goto=news'><div class='votearrow' title='upvote'></div></a></center></td><td class=\"title\"><span class=\"titleline\"><a href=\"https://ssoready.com/blog/engineering/ruby-saml-pwned-by-xml-signature-wrapping-attacks/\">Ruby-SAML pwned by XML signature wrapping attacks</a><span class=\"sitebit comhead\"> (<a href=\"from?site=ssoready.com\"><span class=\"sitestr\">ssoready.com</span></a>)</span></span></td></tr><tr><td colspan=\"2\"></td><td class=\"subtext\"><span class=\"subline\">\n",
      "          <span class=\"score\" id=\"score_41586031\">146 points</span> by <a href=\"user?id=ucarion\" class=\"hnuser\">ucarion</a> <span class=\"age\" title=\"2024-09-18T21:59:42.000000Z\"><a href=\"item?id=41586031\">18 hours ago</a></span> <span id=\"unv_41586031\"></span> | <a href=\"hide?id=41586031&amp;goto=news\">hide</a> | <a href=\"item?id=41586031\">72&nbsp;comments</a>        </span>\n",
      "              </td></tr>\n",
      "      <tr class=\"spacer\" style=\"height:5px\"></tr>\n",
      "                <tr class='athing' id='41546874'>\n",
      "      <td align=\"right\" valign=\"top\" class=\"title\"><span class=\"rank\">26.</span></td>      <td valign=\"top\" class=\"votelinks\"><center><a id='up_41546874' href='vote?id=41546874&amp;how=up&amp;goto=news'><div class='votearrow' title='upvote'></div></a></center></td><td class=\"title\"><span class=\"titleline\"><a href=\"https://g-trees.github.io/g_trees/\">Geometric Search Trees</a><span class=\"sitebit comhead\"> (<a href=\"from?site=g-trees.github.io\"><span class=\"sitestr\">g-trees.github.io</span></a>)</span></span></td></tr><tr><td colspan=\"2\"></td><td class=\"subtext\"><span class=\"subline\">\n",
      "          <span class=\"score\" id=\"score_41546874\">84 points</span> by <a href=\"user?id=fanf2\" class=\"hnuser\">fanf2</a> <span class=\"age\" title=\"2024-09-15T11:42:02.000000Z\"><a href=\"item?id=41546874\">16 hours ago</a></span> <span id=\"unv_41546874\"></span> | <a href=\"hide?id=41546874&amp;goto=news\">hide</a> | <a href=\"item?id=41546874\">12&nbsp;comments</a>        </span>\n",
      "              </td></tr>\n",
      "      <tr class=\"spacer\" style=\"height:5px\"></tr>\n",
      "                <tr class='athing' id='41581480'>\n",
      "      <td align=\"right\" valign=\"top\" class=\"title\"><span class=\"rank\">27.</span></td>      <td valign=\"top\" class=\"votelinks\"><center><a id='up_41581480' href='vote?id=41581480&amp;how=up&amp;goto=news'><div class='votearrow' title='upvote'></div></a></center></td><td class=\"title\"><span class=\"titleline\"><a href=\"https://github.com/kyutai-labs/moshi\">Moshi: A speech-text foundation model for real time dialogue</a><span class=\"sitebit comhead\"> (<a href=\"from?site=github.com/kyutai-labs\"><span class=\"sitestr\">github.com/kyutai-labs</span></a>)</span></span></td></tr><tr><td colspan=\"2\"></td><td class=\"subtext\"><span class=\"subline\">\n",
      "          <span class=\"score\" id=\"score_41581480\">308 points</span> by <a href=\"user?id=gkucsko\" class=\"hnuser\">gkucsko</a> <span class=\"age\" title=\"2024-09-18T15:56:27.000000Z\"><a href=\"item?id=41581480\">1 day ago</a></span> <span id=\"unv_41581480\"></span> | <a href=\"hide?id=41581480&amp;goto=news\">hide</a> | <a href=\"item?id=41581480\">52&nbsp;comments</a>        </span>\n",
      "              </td></tr>\n",
      "      <tr class=\"spacer\" style=\"height:5px\"></tr>\n",
      "                <tr class='athing' id='41591837'>\n",
      "      <td align=\"right\" valign=\"top\" class=\"title\"><span class=\"rank\">28.</span></td>      <td valign=\"top\" class=\"votelinks\"><center><a id='up_41591837' href='vote?id=41591837&amp;how=up&amp;goto=news'><div class='votearrow' title='upvote'></div></a></center></td><td class=\"title\"><span class=\"titleline\"><a href=\"https://www.kyushu-u.ac.jp/en/researches/view/299/\">Organic thermoelectric device can harvest energy at room temperature</a><span class=\"sitebit comhead\"> (<a href=\"from?site=kyushu-u.ac.jp\"><span class=\"sitestr\">kyushu-u.ac.jp</span></a>)</span></span></td></tr><tr><td colspan=\"2\"></td><td class=\"subtext\"><span class=\"subline\">\n",
      "          <span class=\"score\" id=\"score_41591837\">28 points</span> by <a href=\"user?id=geox\" class=\"hnuser\">geox</a> <span class=\"age\" title=\"2024-09-19T13:51:57.000000Z\"><a href=\"item?id=41591837\">2 hours ago</a></span> <span id=\"unv_41591837\"></span> | <a href=\"hide?id=41591837&amp;goto=news\">hide</a> | <a href=\"item?id=41591837\">22&nbsp;comments</a>        </span>\n",
      "              </td></tr>\n",
      "      <tr class=\"spacer\" style=\"height:5px\"></tr>\n",
      "                <tr class='athing' id='41585449'>\n",
      "      <td align=\"right\" valign=\"top\" class=\"title\"><span class=\"rank\">29.</span></td>      <td><img src=\"s.gif\" height=\"1\" width=\"14\"></td>       <td class=\"title\"><span class=\"titleline\"><a href=\"item?id=41585449\">Meticulous (YC S21) is hiring to eliminate UI tests</a></span></td></tr><tr><td colspan=\"2\"></td><td class=\"subtext\">\n",
      "        <span class=\"age\" title=\"2024-09-18T21:03:07.000000Z\"><a href=\"item?id=41585449\">19 hours ago</a></span> | <a href=\"hide?id=41585449&amp;goto=news\">hide</a>      </td></tr>\n",
      "      <tr class=\"spacer\" style=\"height:5px\"></tr>\n",
      "                <tr class='athing' id='41586682'>\n",
      "      <td align=\"right\" valign=\"top\" class=\"title\"><span class=\"rank\">30.</span></td>      <td valign=\"top\" class=\"votelinks\"><center><a id='up_41586682' href='vote?id=41586682&amp;how=up&amp;goto=news'><div class='votearrow' title='upvote'></div></a></center></td><td class=\"title\"><span class=\"titleline\"><a href=\"https://github.com/nikita36078/J2ME-Loader\">J2ME-Loader: J2ME emulator for Android devices</a><span class=\"sitebit comhead\"> (<a href=\"from?site=github.com/nikita36078\"><span class=\"sitestr\">github.com/nikita36078</span></a>)</span></span></td></tr><tr><td colspan=\"2\"></td><td class=\"subtext\"><span class=\"subline\">\n",
      "          <span class=\"score\" id=\"score_41586682\">84 points</span> by <a href=\"user?id=flykespice\" class=\"hnuser\">flykespice</a> <span class=\"age\" title=\"2024-09-18T23:17:36.000000Z\"><a href=\"item?id=41586682\">17 hours ago</a></span> <span id=\"unv_41586682\"></span> | <a href=\"hide?id=41586682&amp;goto=news\">hide</a> | <a href=\"item?id=41586682\">42&nbsp;comments</a>        </span>\n",
      "              </td></tr>\n",
      "      <tr class=\"spacer\" style=\"height:5px\"></tr>\n",
      "            <tr class=\"morespace\" style=\"height:10px\"></tr><tr><td colspan=\"2\"></td>\n",
      "      <td class='title'><a href='?p=2' class='morelink' rel='next'>More</a></td>    </tr>\n",
      "  </table>\n",
      "</td></tr>\n",
      "<tr><td><img src=\"s.gif\" height=\"10\" width=\"0\"><table width=\"100%\" cellspacing=\"0\" cellpadding=\"1\"><tr><td bgcolor=\"#ff6600\"></td></tr></table><br>\n",
      "<center><span class=\"yclinks\"><a href=\"newsguidelines.html\">Guidelines</a> | <a href=\"newsfaq.html\">FAQ</a> | <a href=\"lists\">Lists</a> | <a href=\"https://github.com/HackerNews/API\">API</a> | <a href=\"security.html\">Security</a> | <a href=\"https://www.ycombinator.com/legal/\">Legal</a> | <a href=\"https://www.ycombinator.com/apply/\">Apply to YC</a> | <a href=\"mailto:hn@ycombinator.com\">Contact</a></span><br><br>\n",
      "<form method=\"get\" action=\"//hn.algolia.com/\">Search: <input type=\"text\" name=\"q\" size=\"17\" autocorrect=\"off\" spellcheck=\"false\" autocapitalize=\"off\" autocomplete=\"off\"></form></center></td></tr>      </table></center></body>\n",
      "      <script type='text/javascript' src='hn.js?WNnbPR2RzcIA6QwrdQmO'></script>\n",
      "  </html>\n",
      "\n"
     ]
    }
   ],
   "source": [
    "from bs4 import BeautifulSoup\n",
    "import requests\n",
    "\n",
    "response = requests.get(url=\"https://news.ycombinator.com/news\")\n",
    "\n",
    "yc_webpage = response.text\n",
    "\n",
    "print(yc_webpage)\n"
   ]
  },
  {
   "cell_type": "code",
   "execution_count": 26,
   "metadata": {},
   "outputs": [
    {
     "name": "stdout",
     "output_type": "stream",
     "text": [
      "[<span class=\"titleline\"><a href=\"https://spectrum.ieee.org/5g-antenna-transparent-window\">Glass Antenna Turns windows into 5G Base Stations</a><span class=\"sitebit comhead\"> (<a href=\"from?site=ieee.org\"><span class=\"sitestr\">ieee.org</span></a>)</span></span>, <span class=\"titleline\"><a href=\"https://github.com/dragostis/chili\">Show HN: Chili. Rust port of Spice, a low-overhead parallelization library</a><span class=\"sitebit comhead\"> (<a href=\"from?site=github.com/dragostis\"><span class=\"sitestr\">github.com/dragostis</span></a>)</span></span>, <span class=\"titleline\"><a href=\"https://risk-engineering.org/concept/Rasmussen-practical-drift\">Drift towards danger and the normalization of deviance (2017)</a><span class=\"sitebit comhead\"> (<a href=\"from?site=risk-engineering.org\"><span class=\"sitestr\">risk-engineering.org</span></a>)</span></span>, <span class=\"titleline\"><a href=\"https://www.opennms.com/opennms-feature-list/\">OpenNMS: Visualize and monitor everything on your local and distributed networks</a><span class=\"sitebit comhead\"> (<a href=\"from?site=opennms.com\"><span class=\"sitestr\">opennms.com</span></a>)</span></span>, <span class=\"titleline\"><a href=\"https://www.trebeljahr.com/posts/diatoms\">Diatom Arrangements</a><span class=\"sitebit comhead\"> (<a href=\"from?site=trebeljahr.com\"><span class=\"sitestr\">trebeljahr.com</span></a>)</span></span>, <span class=\"titleline\"><a href=\"https://github.com/MightyMoud/sidekick\">Show HN: A CLI tool I made to self-host any app with two commands on a VPS</a><span class=\"sitebit comhead\"> (<a href=\"from?site=github.com/mightymoud\"><span class=\"sitestr\">github.com/mightymoud</span></a>)</span></span>, <span class=\"titleline\"><a href=\"https://www.evanjones.ca/jvm-mmap-pause.html\">JVM statistics cause garbage collection pauses (2015)</a><span class=\"sitebit comhead\"> (<a href=\"from?site=evanjones.ca\"><span class=\"sitestr\">evanjones.ca</span></a>)</span></span>, <span class=\"titleline\"><a href=\"https://getselectable.com/\">Show HN: Selectable – mobile-friendly Postgres client</a><span class=\"sitebit comhead\"> (<a href=\"from?site=getselectable.com\"><span class=\"sitestr\">getselectable.com</span></a>)</span></span>, <span class=\"titleline\"><a href=\"https://github.com/Harvie/cnc-simulator\">I Revived 3-Axis CNC Mill G-Code Simulator</a><span class=\"sitebit comhead\"> (<a href=\"from?site=github.com/harvie\"><span class=\"sitestr\">github.com/harvie</span></a>)</span></span>, <span class=\"titleline\"><a href=\"https://www.tudelft.nl/en/2024/tnw/quantum-researchers-cause-controlled-wobble-in-the-nucleus-of-a-single-atom\">Quantum researchers cause controlled 'wobble' in the nucleus of a single atom</a><span class=\"sitebit comhead\"> (<a href=\"from?site=tudelft.nl\"><span class=\"sitestr\">tudelft.nl</span></a>)</span></span>, <span class=\"titleline\"><a href=\"https://www.pivotaltracker.com/blog/2024-09-18-end-of-life\">Pivotal Tracker will shut down</a><span class=\"sitebit comhead\"> (<a href=\"from?site=pivotaltracker.com\"><span class=\"sitestr\">pivotaltracker.com</span></a>)</span></span>, <span class=\"titleline\"><a href=\"https://blog.torproject.org/tor-is-still-safe/\">Is Tor still safe to use?</a><span class=\"sitebit comhead\"> (<a href=\"from?site=torproject.org\"><span class=\"sitestr\">torproject.org</span></a>)</span></span>, <span class=\"titleline\"><a href=\"https://www.strangeloopcanon.com/p/seeing-like-a-network\">Seeing Like a Network</a><span class=\"sitebit comhead\"> (<a href=\"from?site=strangeloopcanon.com\"><span class=\"sitestr\">strangeloopcanon.com</span></a>)</span></span>, <span class=\"titleline\"><a href=\"https://www.wsj.com/health/how-pediatricians-created-the-peanut-allergy-epidemic-952831c4\">Pediatricians Created the Peanut Allergy Epidemic</a><span class=\"sitebit comhead\"> (<a href=\"from?site=wsj.com\"><span class=\"sitestr\">wsj.com</span></a>)</span></span>, <span class=\"titleline\"><a href=\"https://www.latimes.com/lifestyle/story/2024-09-18/regret-how-to-overcome\">Tortured by regrets? A new study details how best to overcome them</a><span class=\"sitebit comhead\"> (<a href=\"from?site=latimes.com\"><span class=\"sitestr\">latimes.com</span></a>)</span></span>, <span class=\"titleline\"><a href=\"item?id=41579014\">Ask HN: How to roll out an internal UI component library</a></span>, <span class=\"titleline\"><a href=\"https://www.youtube.com/watch?v=Bicjxl4EcJg\">The Cheating Device (ChatGPT on a TI-84) [video]</a><span class=\"sitebit comhead\"> (<a href=\"from?site=youtube.com\"><span class=\"sitestr\">youtube.com</span></a>)</span></span>, <span class=\"titleline\"><a href=\"https://vapour.run/\">Vapour: A typed superset of the R programming language</a><span class=\"sitebit comhead\"> (<a href=\"from?site=vapour.run\"><span class=\"sitestr\">vapour.run</span></a>)</span></span>, <span class=\"titleline\"><a href=\"https://github.com/line/ts-remove-unused\">Show HN: ts-remove-unused – Remove unused code from your TypeScript project</a><span class=\"sitebit comhead\"> (<a href=\"from?site=github.com/line\"><span class=\"sitestr\">github.com/line</span></a>)</span></span>, <span class=\"titleline\"><a href=\"https://www.nature.com/articles/s41586-024-07886-z\">Three-Dimensional Wave Breaking</a><span class=\"sitebit comhead\"> (<a href=\"from?site=nature.com\"><span class=\"sitestr\">nature.com</span></a>)</span></span>, <span class=\"titleline\"><a href=\"https://larslofgren.com/forbes-marketplace/\">Forbes Marketplace: The Parasite SEO Company Trying to Devour Its Host</a><span class=\"sitebit comhead\"> (<a href=\"from?site=larslofgren.com\"><span class=\"sitestr\">larslofgren.com</span></a>)</span></span>, <span class=\"titleline\"><a href=\"https://www.causely.io/blog/mttr-meaning/\" rel=\"nofollow\">The \"R\" in MTTR: Repair or Recover? What's the Difference?</a><span class=\"sitebit comhead\"> (<a href=\"from?site=causely.io\"><span class=\"sitestr\">causely.io</span></a>)</span></span>, <span class=\"titleline\"><a href=\"https://phys.org/news/2024-09-astronomers-biggest-black-hole-jets.html\" rel=\"nofollow\">Biggest ever seen black hole jets; blasting plasma well beyond their own galaxy</a><span class=\"sitebit comhead\"> (<a href=\"from?site=phys.org\"><span class=\"sitestr\">phys.org</span></a>)</span></span>, <span class=\"titleline\"><a href=\"https://www.southampton.ac.uk/news/2024/09/human-genome-stored-on-everlasting-memory-crystal-.page\">Human genome stored on 'everlasting' memory crystal</a><span class=\"sitebit comhead\"> (<a href=\"from?site=southampton.ac.uk\"><span class=\"sitestr\">southampton.ac.uk</span></a>)</span></span>, <span class=\"titleline\"><a href=\"https://ssoready.com/blog/engineering/ruby-saml-pwned-by-xml-signature-wrapping-attacks/\">Ruby-SAML pwned by XML signature wrapping attacks</a><span class=\"sitebit comhead\"> (<a href=\"from?site=ssoready.com\"><span class=\"sitestr\">ssoready.com</span></a>)</span></span>, <span class=\"titleline\"><a href=\"https://g-trees.github.io/g_trees/\">Geometric Search Trees</a><span class=\"sitebit comhead\"> (<a href=\"from?site=g-trees.github.io\"><span class=\"sitestr\">g-trees.github.io</span></a>)</span></span>, <span class=\"titleline\"><a href=\"https://github.com/kyutai-labs/moshi\">Moshi: A speech-text foundation model for real time dialogue</a><span class=\"sitebit comhead\"> (<a href=\"from?site=github.com/kyutai-labs\"><span class=\"sitestr\">github.com/kyutai-labs</span></a>)</span></span>, <span class=\"titleline\"><a href=\"https://www.kyushu-u.ac.jp/en/researches/view/299/\">Organic thermoelectric device can harvest energy at room temperature</a><span class=\"sitebit comhead\"> (<a href=\"from?site=kyushu-u.ac.jp\"><span class=\"sitestr\">kyushu-u.ac.jp</span></a>)</span></span>, <span class=\"titleline\"><a href=\"item?id=41585449\">Meticulous (YC S21) is hiring to eliminate UI tests</a></span>, <span class=\"titleline\"><a href=\"https://github.com/nikita36078/J2ME-Loader\">J2ME-Loader: J2ME emulator for Android devices</a><span class=\"sitebit comhead\"> (<a href=\"from?site=github.com/nikita36078\"><span class=\"sitestr\">github.com/nikita36078</span></a>)</span></span>]\n"
     ]
    }
   ],
   "source": [
    "soup = BeautifulSoup(yc_webpage, \"html.parser\")\n",
    "\n",
    "article = soup.find_all(name= \"span\", class_=\"titleline\")\n",
    "print(article)\n"
   ]
  },
  {
   "cell_type": "code",
   "execution_count": 27,
   "metadata": {},
   "outputs": [
    {
     "name": "stdout",
     "output_type": "stream",
     "text": [
      "[88, 119, 81, 15, 69, 80, 31, 15, 73, 13, 169, 686, 18, 30, 44, 42, 22, 23, 102, 15, 20, 3, 9, 37, 146, 84, 308, 28, 84]\n"
     ]
    }
   ],
   "source": [
    "all_article_upvotes = [int(score.text.split()[0]) for score in soup.find_all(name= \"span\", class_=\"score\")]\n",
    "print(all_article_upvotes)"
   ]
  },
  {
   "cell_type": "code",
   "execution_count": 28,
   "metadata": {},
   "outputs": [
    {
     "name": "stdout",
     "output_type": "stream",
     "text": [
      "<a href=\"https://spectrum.ieee.org/5g-antenna-transparent-window\">Glass Antenna Turns windows into 5G Base Stations</a>\n"
     ]
    }
   ],
   "source": [
    "article_main_tag = article[0].find(\"a\")\n",
    "print(article_main_tag)"
   ]
  },
  {
   "cell_type": "code",
   "execution_count": 20,
   "metadata": {},
   "outputs": [
    {
     "name": "stdout",
     "output_type": "stream",
     "text": [
      "Glass Antenna Turns windows into 5G Base Stations\n",
      "https://spectrum.ieee.org/5g-antenna-transparent-window\n"
     ]
    }
   ],
   "source": [
    "article_text = article_main_tag.getText()\n",
    "article_link = article_main_tag.get(\"href\")\n",
    "print(article_text)\n",
    "print(article_link)"
   ]
  },
  {
   "cell_type": "code",
   "execution_count": 31,
   "metadata": {},
   "outputs": [
    {
     "name": "stdout",
     "output_type": "stream",
     "text": [
      "<a href=\"https://spectrum.ieee.org/5g-antenna-transparent-window\">Glass Antenna Turns windows into 5G Base Stations</a>\n"
     ]
    }
   ],
   "source": [
    "all_article_main_tags = [article[i].find(\"a\") for i in range(len(article))]\n",
    "print(all_article_main_tags)"
   ]
  },
  {
   "cell_type": "code",
   "execution_count": 34,
   "metadata": {},
   "outputs": [
    {
     "name": "stdout",
     "output_type": "stream",
     "text": [
      "['Glass Antenna Turns windows into 5G Base Stations', 'Show HN: Chili. Rust port of Spice, a low-overhead parallelization library', 'Drift towards danger and the normalization of deviance (2017)', 'OpenNMS: Visualize and monitor everything on your local and distributed networks', 'Diatom Arrangements', 'Show HN: A CLI tool I made to self-host any app with two commands on a VPS', 'JVM statistics cause garbage collection pauses (2015)', 'Show HN: Selectable – mobile-friendly Postgres client', 'I Revived 3-Axis CNC Mill G-Code Simulator', \"Quantum researchers cause controlled 'wobble' in the nucleus of a single atom\", 'Pivotal Tracker will shut down', 'Is Tor still safe to use?', 'Seeing Like a Network', 'Pediatricians Created the Peanut Allergy Epidemic', 'Tortured by regrets? A new study details how best to overcome them', 'Ask HN: How to roll out an internal UI component library', 'The Cheating Device (ChatGPT on a TI-84) [video]', 'Vapour: A typed superset of the R programming language', 'Show HN: ts-remove-unused – Remove unused code from your TypeScript project', 'Three-Dimensional Wave Breaking', 'Forbes Marketplace: The Parasite SEO Company Trying to Devour Its Host', 'The \"R\" in MTTR: Repair or Recover? What\\'s the Difference?', 'Biggest ever seen black hole jets; blasting plasma well beyond their own galaxy', \"Human genome stored on 'everlasting' memory crystal\", 'Ruby-SAML pwned by XML signature wrapping attacks', 'Geometric Search Trees', 'Moshi: A speech-text foundation model for real time dialogue', 'Organic thermoelectric device can harvest energy at room temperature', 'Meticulous (YC S21) is hiring to eliminate UI tests', 'J2ME-Loader: J2ME emulator for Android devices']\n"
     ]
    }
   ],
   "source": [
    "all_article_text = [text.getText() for text in  all_article_main_tags]\n",
    "print(all_article_text)"
   ]
  },
  {
   "cell_type": "code",
   "execution_count": 39,
   "metadata": {},
   "outputs": [
    {
     "name": "stdout",
     "output_type": "stream",
     "text": [
      "['https://spectrum.ieee.org/5g-antenna-transparent-window', 'https://github.com/dragostis/chili', 'https://risk-engineering.org/concept/Rasmussen-practical-drift', 'https://www.opennms.com/opennms-feature-list/', 'https://www.trebeljahr.com/posts/diatoms', 'https://github.com/MightyMoud/sidekick', 'https://www.evanjones.ca/jvm-mmap-pause.html', 'https://getselectable.com/', 'https://github.com/Harvie/cnc-simulator', 'https://www.tudelft.nl/en/2024/tnw/quantum-researchers-cause-controlled-wobble-in-the-nucleus-of-a-single-atom', 'https://www.pivotaltracker.com/blog/2024-09-18-end-of-life', 'https://blog.torproject.org/tor-is-still-safe/', 'https://www.strangeloopcanon.com/p/seeing-like-a-network', 'https://www.wsj.com/health/how-pediatricians-created-the-peanut-allergy-epidemic-952831c4', 'https://www.latimes.com/lifestyle/story/2024-09-18/regret-how-to-overcome', 'item?id=41579014', 'https://www.youtube.com/watch?v=Bicjxl4EcJg', 'https://vapour.run/', 'https://github.com/line/ts-remove-unused', 'https://www.nature.com/articles/s41586-024-07886-z', 'https://larslofgren.com/forbes-marketplace/', 'https://www.causely.io/blog/mttr-meaning/', 'https://phys.org/news/2024-09-astronomers-biggest-black-hole-jets.html', 'https://www.southampton.ac.uk/news/2024/09/human-genome-stored-on-everlasting-memory-crystal-.page', 'https://ssoready.com/blog/engineering/ruby-saml-pwned-by-xml-signature-wrapping-attacks/', 'https://g-trees.github.io/g_trees/', 'https://github.com/kyutai-labs/moshi', 'https://www.kyushu-u.ac.jp/en/researches/view/299/', 'item?id=41585449', 'https://github.com/nikita36078/J2ME-Loader']\n"
     ]
    }
   ],
   "source": [
    "all_article_links = [link.get(\"href\") for link in all_article_main_tags]\n",
    "print(all_article_links)"
   ]
  },
  {
   "cell_type": "code",
   "execution_count": 40,
   "metadata": {},
   "outputs": [
    {
     "name": "stdout",
     "output_type": "stream",
     "text": [
      "['Glass Antenna Turns windows into 5G Base Stations', 'Show HN: Chili. Rust port of Spice, a low-overhead parallelization library', 'Drift towards danger and the normalization of deviance (2017)', 'OpenNMS: Visualize and monitor everything on your local and distributed networks', 'Diatom Arrangements', 'Show HN: A CLI tool I made to self-host any app with two commands on a VPS', 'JVM statistics cause garbage collection pauses (2015)', 'Show HN: Selectable – mobile-friendly Postgres client', 'I Revived 3-Axis CNC Mill G-Code Simulator', \"Quantum researchers cause controlled 'wobble' in the nucleus of a single atom\", 'Pivotal Tracker will shut down', 'Is Tor still safe to use?', 'Seeing Like a Network', 'Pediatricians Created the Peanut Allergy Epidemic', 'Tortured by regrets? A new study details how best to overcome them', 'Ask HN: How to roll out an internal UI component library', 'The Cheating Device (ChatGPT on a TI-84) [video]', 'Vapour: A typed superset of the R programming language', 'Show HN: ts-remove-unused – Remove unused code from your TypeScript project', 'Three-Dimensional Wave Breaking', 'Forbes Marketplace: The Parasite SEO Company Trying to Devour Its Host', 'The \"R\" in MTTR: Repair or Recover? What\\'s the Difference?', 'Biggest ever seen black hole jets; blasting plasma well beyond their own galaxy', \"Human genome stored on 'everlasting' memory crystal\", 'Ruby-SAML pwned by XML signature wrapping attacks', 'Geometric Search Trees', 'Moshi: A speech-text foundation model for real time dialogue', 'Organic thermoelectric device can harvest energy at room temperature', 'Meticulous (YC S21) is hiring to eliminate UI tests', 'J2ME-Loader: J2ME emulator for Android devices']\n",
      "['https://spectrum.ieee.org/5g-antenna-transparent-window', 'https://github.com/dragostis/chili', 'https://risk-engineering.org/concept/Rasmussen-practical-drift', 'https://www.opennms.com/opennms-feature-list/', 'https://www.trebeljahr.com/posts/diatoms', 'https://github.com/MightyMoud/sidekick', 'https://www.evanjones.ca/jvm-mmap-pause.html', 'https://getselectable.com/', 'https://github.com/Harvie/cnc-simulator', 'https://www.tudelft.nl/en/2024/tnw/quantum-researchers-cause-controlled-wobble-in-the-nucleus-of-a-single-atom', 'https://www.pivotaltracker.com/blog/2024-09-18-end-of-life', 'https://blog.torproject.org/tor-is-still-safe/', 'https://www.strangeloopcanon.com/p/seeing-like-a-network', 'https://www.wsj.com/health/how-pediatricians-created-the-peanut-allergy-epidemic-952831c4', 'https://www.latimes.com/lifestyle/story/2024-09-18/regret-how-to-overcome', 'item?id=41579014', 'https://www.youtube.com/watch?v=Bicjxl4EcJg', 'https://vapour.run/', 'https://github.com/line/ts-remove-unused', 'https://www.nature.com/articles/s41586-024-07886-z', 'https://larslofgren.com/forbes-marketplace/', 'https://www.causely.io/blog/mttr-meaning/', 'https://phys.org/news/2024-09-astronomers-biggest-black-hole-jets.html', 'https://www.southampton.ac.uk/news/2024/09/human-genome-stored-on-everlasting-memory-crystal-.page', 'https://ssoready.com/blog/engineering/ruby-saml-pwned-by-xml-signature-wrapping-attacks/', 'https://g-trees.github.io/g_trees/', 'https://github.com/kyutai-labs/moshi', 'https://www.kyushu-u.ac.jp/en/researches/view/299/', 'item?id=41585449', 'https://github.com/nikita36078/J2ME-Loader']\n",
      "[88, 119, 81, 15, 69, 80, 31, 15, 73, 13, 169, 686, 18, 30, 44, 42, 22, 23, 102, 15, 20, 3, 9, 37, 146, 84, 308, 28, 84]\n"
     ]
    }
   ],
   "source": [
    "print(all_article_text)\n",
    "print(all_article_links)\n",
    "print(all_article_upvotes)"
   ]
  },
  {
   "cell_type": "code",
   "execution_count": 43,
   "metadata": {},
   "outputs": [
    {
     "name": "stdout",
     "output_type": "stream",
     "text": [
      "11\n"
     ]
    }
   ],
   "source": [
    "highest_upvote = max(all_article_upvotes)\n",
    "highest_upvode_index = all_article_upvotes.index(highest_upvote)\n",
    "print(highest_upvode_index)"
   ]
  },
  {
   "cell_type": "code",
   "execution_count": 45,
   "metadata": {},
   "outputs": [
    {
     "name": "stdout",
     "output_type": "stream",
     "text": [
      "Is Tor still safe to use?\n",
      "https://blog.torproject.org/tor-is-still-safe/\n",
      "686\n"
     ]
    }
   ],
   "source": [
    "print(all_article_text[highest_upvode_index])\n",
    "print(all_article_links[highest_upvode_index])\n",
    "print(all_article_upvotes[highest_upvode_index])"
   ]
  },
  {
   "cell_type": "code",
   "execution_count": null,
   "metadata": {},
   "outputs": [],
   "source": []
  }
 ],
 "metadata": {
  "kernelspec": {
   "display_name": ".venv",
   "language": "python",
   "name": "python3"
  },
  "language_info": {
   "codemirror_mode": {
    "name": "ipython",
    "version": 3
   },
   "file_extension": ".py",
   "mimetype": "text/x-python",
   "name": "python",
   "nbconvert_exporter": "python",
   "pygments_lexer": "ipython3",
   "version": "3.11.7"
  }
 },
 "nbformat": 4,
 "nbformat_minor": 2
}
