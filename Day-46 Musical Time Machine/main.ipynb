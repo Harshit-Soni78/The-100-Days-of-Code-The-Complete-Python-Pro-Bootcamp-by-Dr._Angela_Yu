{
 "cells": [
  {
   "cell_type": "markdown",
   "metadata": {},
   "source": [
    "Step 1 - Scraping the Billboard Hot 100\n",
    " 1. Create a new project in PyCharm and create the main.py file.\n",
    "\n",
    " 2. Create an input() prompt that asks what year you would like to travel to in YYY-MM-DD format. e.g.\n",
    " *Which year do you want to travel to? Type the date in this format YYYY-MM-DD:*\n",
    "\n",
    "\n",
    " 3. Using what you've learnt about BeautifulSoup, scrape the top 100 song titles on that date into a Python List.\n",
    "\n",
    " Hint: Take a look at the URL of the chart on a historical date: https://www.billboard.com/charts/hot-100/2000-08-12"
   ]
  },
  {
   "cell_type": "code",
   "execution_count": 2,
   "metadata": {},
   "outputs": [],
   "source": [
    "user_date = input(\"Which year do you want to travel to? Type the date in this format YYYY-MM-DD:\")"
   ]
  },
  {
   "cell_type": "code",
   "execution_count": 10,
   "metadata": {},
   "outputs": [],
   "source": [
    "from bs4 import BeautifulSoup\n",
    "import requests\n",
    "\n",
    "URL = f\"https://www.billboard.com/charts/hot-100/{user_date}/\"\n",
    "\n",
    "response = requests.get(url=URL)\n",
    "webpage = response.text"
   ]
  },
  {
   "cell_type": "code",
   "execution_count": 24,
   "metadata": {},
   "outputs": [],
   "source": [
    "soup = BeautifulSoup(webpage, \"html.parser\")"
   ]
  },
  {
   "cell_type": "code",
   "execution_count": 35,
   "metadata": {},
   "outputs": [],
   "source": [
    "songs_name_tag = soup.select(\"li ul li h3\")\n",
    "songs_name_list = [song.getText().strip() for song in songs_name_tag]"
   ]
  },
  {
   "cell_type": "markdown",
   "metadata": {},
   "source": [
    "Step 2 - Authentication with Spotify\n",
    "1. In order to create a playlist in Spotify you must have an account with Spotify. If you don't already have an account, you can sign up for a free one here: http://spotify.com/signup/\n",
    "\n",
    "2. Once you've signed up/ signed in, go to the developer dashboard and create a new Spotify App:\n",
    "\n",
    "https://developer.spotify.com/dashboard/\n",
    "\n",
    "\n",
    "3. Once you've created a Spotify app, copy the Client ID and Client Secret into your Python project.\n",
    "\n",
    "\n",
    "Spotify uses OAuth to allow third-party applications (e.g. our Python code) to access a Spotify user's account without giving them the username or password. We'll explore OAuth more in later modules on web development, but if you want you can read more about it here: https://developer.okta.com/blog/2017/06/21/what-the-heck-is-oauth\n",
    "\n",
    "Authenticating with Spotify is quite complicated, especially when you want to access a user's account. So instead, we're going to use one of the most popular Python Spotify modules - Spotipy to make things easier.\n",
    "\n",
    "Now that you've come so far and completed 45 days of Python, you're going to approach this challenge like a real developer, figuring things out from the documentation.\n",
    "\n",
    "\n",
    "\n",
    "4. Using the Spotipy documentation, figure out how to authenticate your Python project with Spotify using your unique Client ID/ Client Secret.\n",
    "\n",
    "\n",
    "\n",
    "5. Use http://example.com as your Redirect URI. You're looking to get the currentuser id (your Spotify username). As per the documentation, make sure you set the redirect URI in the Spotify Dashboard as well.\n",
    "\n",
    "\n",
    "\n",
    "\n",
    "HINT 1: You need your own Spotify app Client ID and Secret, the ones in the image above won't work.\n",
    "\n",
    "HINT 2: This is the method you'll need: https://spotipy.readthedocs.io/en/2.13.0/#spotipy.oauth2.SpotifyOAuth\n",
    "\n",
    "HINT 3: Try passing the Client ID and Secret directly into the SpotifyOAuth() constructor instead of using export or set.\n",
    "\n",
    "HINT 4: You need the \"playlist-modify-private\" scope in order to create a private playlist on Spotify.\n",
    "\n",
    "HINT 5:  If successful, you should see the page below show up automatically (be sure to click Agree):\n",
    "\n",
    "\n",
    "\n",
    "Then it will take you to the page below, example.com and you need to copy the entire URL in the address bar:\n",
    "\n",
    "\n",
    "Finally, you need to paste the URL into the prompt in PyCharm:\n",
    "\n",
    "\n",
    "Now if you close PyCharm and restart, you should see a new file in this project called token.txt\n",
    "\n",
    "\n",
    "5. Get the user id of the authenticated user (your Spotify username).\n",
    "\n",
    "HINT 1: You'll need this method: https://spotipy.readthedocs.io/en/2.13.0/#spotipy.client.Spotify.current_user\n",
    "\n",
    "HINT 2: The output of the above method is a dictionary, look for the value of the \"id\" key.\n",
    "\n",
    "HINT 3: If you see the error \"HTTP Error for GET to https://api.spotify.com/v1/me/ with Params: {} returned 403 due to User not registered in the Developer Dashboard\" double check you are passing a username during the authorisation flow."
   ]
  },
  {
   "cell_type": "code",
   "execution_count": null,
   "metadata": {},
   "outputs": [],
   "source": [
    "%pip install Spotipy"
   ]
  },
  {
   "cell_type": "code",
   "execution_count": 38,
   "metadata": {},
   "outputs": [],
   "source": [
    "import os\n",
    "Client_ID = os.getenv(\"SPOTIPY_CLIENT_ID\")\n",
    "Client_secret = os.getenv(\"SPOTIPY_CLIENT_SECRET\")\n",
    "REDIRECT_URI = os.getenv(\"SPOTIPY_REDIRECT_URI\")"
   ]
  },
  {
   "cell_type": "code",
   "execution_count": 39,
   "metadata": {},
   "outputs": [],
   "source": [
    "import spotipy\n",
    "from spotipy.oauth2 import SpotifyOAuth\n",
    "\n",
    "USERNAME = \"unofficial\"\n",
    "\n",
    "sp = spotipy.Spotify(\n",
    "    auth_manager=SpotifyOAuth(\n",
    "        scope=\"playlist-modify-private\",\n",
    "        redirect_uri=REDIRECT_URI,\n",
    "        client_id=Client_ID,\n",
    "        client_secret=Client_secret,\n",
    "        show_dialog=True,\n",
    "        cache_path=\"token.txt\",\n",
    "        username=USERNAME,\n",
    "    )\n",
    ")\n",
    "user_id = sp.current_user()[\"id\"]"
   ]
  },
  {
   "cell_type": "markdown",
   "metadata": {},
   "source": [
    "Step 3 - Search Spotify for the Songs from Step 1\n",
    "1. Using the Spotipy documentation, create a list of Spotify song URIs for the list of song names you found from step 1 (scraping billboard 100).\n",
    "\n",
    "HINT 1: You can use the query format \"track: {name} year: {YYYY}\" to narrow down on a track name from a particular year.\n",
    "\n",
    "HINT 2: Sometimes a song is not available in Spotify, you'll want to use exception handling to skip over those songs.\n",
    "\n",
    "HINT 3: pprint() might help you visualise the result better. https://docs.python.org/3/library/pprint.html"
   ]
  },
  {
   "cell_type": "code",
   "execution_count": null,
   "metadata": {},
   "outputs": [],
   "source": [
    "song_uris = []\n",
    "year = user_date.split(\"-\")[0]\n",
    "for song in songs_name_list:\n",
    "    result = sp.search(q=f\"track:{song} year:{year}\", type=\"track\")\n",
    "    print(result)\n",
    "    try:\n",
    "        uri = result[\"tracks\"][\"items\"][0][\"uri\"]\n",
    "        song_uris.append(uri)\n",
    "    except IndexError:\n",
    "        print(f\"{song} doesn't exist in Spotify. Skipped.\")"
   ]
  },
  {
   "cell_type": "markdown",
   "metadata": {},
   "source": [
    "Step 4 - Creating and Adding to Spotify Playlist\n",
    "1. Using the Spotipy documentation, create a new private playlist with the name \"YYYY-MM-DD Billboard 100\", where the date is the date you inputted in step 1.\n",
    "\n",
    "HINT: You'll need the user id you got from Step 2.\n",
    "\n",
    "2. Add each of the songs found in Step 3 to the new playlist.\n",
    "\n",
    "HINT: You'll need the playlist id which is returned as an output once you've successfully created a new playlist."
   ]
  },
  {
   "cell_type": "code",
   "execution_count": null,
   "metadata": {},
   "outputs": [],
   "source": [
    "playlist = sp.user_playlist_create(user=user_id, name=f\"{user_date} Musical Time Machine\", public=False)\n",
    "print(playlist)"
   ]
  },
  {
   "cell_type": "code",
   "execution_count": null,
   "metadata": {},
   "outputs": [],
   "source": [
    "sp.playlist_add_items(playlist_id=playlist[\"id\"], items=song_uris)\n",
    "print(\"Playlist Created !!\")"
   ]
  }
 ],
 "metadata": {
  "kernelspec": {
   "display_name": "Python 3",
   "language": "python",
   "name": "python3"
  },
  "language_info": {
   "codemirror_mode": {
    "name": "ipython",
    "version": 3
   },
   "file_extension": ".py",
   "mimetype": "text/x-python",
   "name": "python",
   "nbconvert_exporter": "python",
   "pygments_lexer": "ipython3",
   "version": "3.12.4"
  }
 },
 "nbformat": 4,
 "nbformat_minor": 2
}
